{
 "cells": [
  {
   "cell_type": "markdown",
   "metadata": {},
   "source": [
    "#### This notebook is to \n",
    "1. remove missing values of the key columns\n",
    "2. remove placeholder values such as tbd from the key columns\n",
    "3. remove duplicates of the key columns\n",
    "4. export data sets as clean data sets"
   ]
  },
  {
   "cell_type": "code",
   "execution_count": 58,
   "metadata": {},
   "outputs": [],
   "source": [
    "import pandas as pd"
   ]
  },
  {
   "cell_type": "code",
   "execution_count": 59,
   "metadata": {},
   "outputs": [],
   "source": [
    "pd.set_option('display.max_columns', None)\n",
    "pd.set_option('display.max_colwidth',500)  "
   ]
  },
  {
   "cell_type": "code",
   "execution_count": 60,
   "metadata": {},
   "outputs": [
    {
     "name": "stderr",
     "output_type": "stream",
     "text": [
      "C:\\Users\\cyy12\\mdr\\Lib\\site-packages\\openpyxl\\worksheet\\_reader.py:329: UserWarning: Data Validation extension is not supported and will be removed\n",
      "  warn(msg)\n"
     ]
    }
   ],
   "source": [
    "# Load datasets\n",
    "file_path_input = \"data/ABS-MOPS Variables - December 11 2024.xlsm\"\n",
    "file_path_mdr = \"data/mdr Variables 1.xlsx\"\n",
    "\n",
    "input_df = pd.read_excel(file_path_input, sheet_name=\"Data Sheet\", header=12).rename(columns={'Unnamed: 3':'Legacy Variable'})\n",
    "mdr_df = pd.read_excel(file_path_mdr)\n",
    "\n",
    "input_columns_to_check = [\"Legacy Variable\", \"Variable Name *\", \"Description *\"]\n",
    "mdr_columns_to_check = [\"name\", \"definition\"]"
   ]
  },
  {
   "cell_type": "code",
   "execution_count": 61,
   "metadata": {},
   "outputs": [],
   "source": [
    "# input_df[input_columns_to_check].head()"
   ]
  },
  {
   "cell_type": "code",
   "execution_count": 62,
   "metadata": {},
   "outputs": [],
   "source": [
    "# mdr_df[mdr_columns_to_check].head()"
   ]
  },
  {
   "cell_type": "code",
   "execution_count": 63,
   "metadata": {},
   "outputs": [
    {
     "name": "stdout",
     "output_type": "stream",
     "text": [
      "(395, 28)\n",
      "(41626, 9)\n",
      "(392, 28)\n",
      "(41451, 9)\n",
      "(371, 28)\n",
      "(37836, 9)\n"
     ]
    }
   ],
   "source": [
    "# Remove rows with any null values and remove duplicates\n",
    "print(input_df.shape)\n",
    "print(mdr_df.shape)\n",
    "input_df = input_df.dropna(subset=input_columns_to_check)\n",
    "mdr_df = mdr_df.dropna(subset=mdr_columns_to_check)\n",
    "print(input_df.shape)\n",
    "print(mdr_df.shape)\n",
    "input_df = input_df.drop_duplicates(subset=[\"Variable Name *\"])\n",
    "mdr_df = mdr_df.drop_duplicates(subset=[\"name\"])\n",
    "print(input_df.shape)\n",
    "print(mdr_df.shape)"
   ]
  },
  {
   "cell_type": "code",
   "execution_count": 64,
   "metadata": {},
   "outputs": [],
   "source": [
    "# Remove place holders like TBD\n",
    "\n",
    "placeholder_vars = ['tbd'] # lower case\n",
    "\n",
    "for var in placeholder_vars:\n",
    "    for col in mdr_columns_to_check:\n",
    "        to_drop = mdr_df[mdr_df[col].str.lower()==var].index\n",
    "        mdr_df = mdr_df.drop(to_drop)\n",
    "\n",
    "for var in placeholder_vars:\n",
    "    for col in input_columns_to_check:\n",
    "        to_drop = input_df[input_df[col].str.lower()==var].index\n",
    "        input_df = input_df.drop(to_drop)"
   ]
  },
  {
   "cell_type": "code",
   "execution_count": 65,
   "metadata": {},
   "outputs": [
    {
     "name": "stdout",
     "output_type": "stream",
     "text": [
      "if still missing values in input df:\n",
      " Legacy Variable    False\n",
      "Variable Name *    False\n",
      "Description *      False\n",
      "dtype: bool\n",
      "if still missing values in mdr df:\n",
      " name          False\n",
      "definition    False\n",
      "dtype: bool\n"
     ]
    }
   ],
   "source": [
    "# double check null \n",
    "missing_columns = input_df[input_columns_to_check].isnull().any()\n",
    "print('if still missing values in input df:\\n',missing_columns)\n",
    "\n",
    "missing_columns = mdr_df[mdr_columns_to_check].isnull().any()\n",
    "print('if still missing values in mdr df:\\n',missing_columns)"
   ]
  },
  {
   "cell_type": "code",
   "execution_count": 66,
   "metadata": {},
   "outputs": [
    {
     "name": "stdout",
     "output_type": "stream",
     "text": [
      "placeholder value: tbd\n",
      "if any tbd in input df: \n",
      " False\n",
      "if any tbd in mdr df: \n",
      " False\n"
     ]
    }
   ],
   "source": [
    "# double check placeholders:\n",
    "for var in placeholder_vars:\n",
    "    print(f'placeholder value: {var}')\n",
    "    \n",
    "    df_i = input_df[input_columns_to_check].map(lambda x: x.lower() if isinstance(x, str) else x)\n",
    "    value_exists = (df_i == var).any().any()\n",
    "    print(f'if any {var} in input df: \\n',value_exists)\n",
    "    \n",
    "    df_m = mdr_df[mdr_columns_to_check].map(lambda x: x.lower() if isinstance(x, str) else x)\n",
    "    value_exists = (df_m == var).any().any()\n",
    "    print(f'if any {var} in mdr df: \\n',value_exists)"
   ]
  },
  {
   "cell_type": "code",
   "execution_count": 67,
   "metadata": {},
   "outputs": [
    {
     "name": "stdout",
     "output_type": "stream",
     "text": [
      "(371, 28)\n",
      "(36618, 9)\n"
     ]
    }
   ],
   "source": [
    "print(input_df.shape)\n",
    "print(mdr_df.shape)"
   ]
  },
  {
   "cell_type": "code",
   "execution_count": 68,
   "metadata": {},
   "outputs": [],
   "source": [
    "# Save cleaned data to new files\n",
    "input_df.to_excel(\"data/cleanABS.xlsx\", index=False)\n",
    "mdr_df.to_excel(\"data/cleanMDR.xlsx\", index=False)"
   ]
  }
 ],
 "metadata": {
  "kernelspec": {
   "display_name": "Python mdr",
   "language": "python",
   "name": "mdr"
  },
  "language_info": {
   "codemirror_mode": {
    "name": "ipython",
    "version": 3
   },
   "file_extension": ".py",
   "mimetype": "text/x-python",
   "name": "python",
   "nbconvert_exporter": "python",
   "pygments_lexer": "ipython3",
   "version": "3.12.7"
  }
 },
 "nbformat": 4,
 "nbformat_minor": 4
}

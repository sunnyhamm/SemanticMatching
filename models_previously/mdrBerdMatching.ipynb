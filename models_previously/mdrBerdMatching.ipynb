{
 "cells": [
  {
   "cell_type": "code",
   "execution_count": 1,
   "metadata": {},
   "outputs": [],
   "source": [
    "import pandas as pd\n",
    "from sentence_transformers import SentenceTransformer, util"
   ]
  },
  {
   "cell_type": "code",
   "execution_count": 2,
   "metadata": {},
   "outputs": [
    {
     "name": "stdout",
     "output_type": "stream",
     "text": [
      "Before filtering Business Frame: (41626, 9)\n",
      "After filtering Business Frame: (9410, 9)\n"
     ]
    }
   ],
   "source": [
    "\n",
    "# Load MDR and BERD data\n",
    "mdr_file_path = \"data/mdr Variables 1.xlsx\"\n",
    "berd_file_path = \"data/BERD data dictionary working BWS 2.xlsx\"\n",
    "\n",
    "mdr_data = pd.ExcelFile(mdr_file_path)\n",
    "berd_data = pd.ExcelFile(berd_file_path)\n",
    "\n",
    "mdr_df = mdr_data.parse('Sheet1')\n",
    "berd_df = berd_data.parse('Sheet1')\n",
    "print(\"Before filtering Business Frame: \" + str(mdr_df.shape))\n",
    "\n",
    "# Filtering everything but Business Frame\n",
    "mdr_df = mdr_df[mdr_df['statistical_program_cycle_frame_type'] == 'Business Frame']\n",
    "\n",
    "print(\"After filtering Business Frame: \" + str(mdr_df.shape))\n",
    "# Extract relevant columns\n",
    "mdr_descriptions = mdr_df[['name', 'definition']].dropna().reset_index(drop=True)\n",
    "berd_descriptions = berd_df[['New Variable Name', '2023 Description']].dropna().reset_index(drop=True)\n"
   ]
  },
  {
   "cell_type": "code",
   "execution_count": 3,
   "metadata": {},
   "outputs": [],
   "source": [
    "# Convert descriptions to lists\n",
    "mdr_texts = mdr_descriptions['definition'].tolist()\n",
    "berd_texts = berd_descriptions['2023 Description'].tolist()\n",
    "\n",
    "# Load the pre-trained SBERT model\n",
    "model = SentenceTransformer('all-MiniLM-L6-v2')\n",
    "\n",
    "# Generate embeddings using SBERT\n",
    "mdr_embeddings = model.encode(mdr_texts, convert_to_tensor=True)\n",
    "berd_embeddings = model.encode(berd_texts, convert_to_tensor=True)\n",
    "\n",
    "# Compute cosine similarity\n",
    "similarity_scores = util.pytorch_cos_sim(mdr_embeddings, berd_embeddings)\n",
    "\n",
    "# Convert to a DataFrame\n",
    "similarity_df = pd.DataFrame(similarity_scores.cpu().numpy(), index=mdr_descriptions['name'], columns=berd_descriptions['New Variable Name'])\n",
    "\n"
   ]
  },
  {
   "cell_type": "code",
   "execution_count": 4,
   "metadata": {},
   "outputs": [],
   "source": [
    "# Extract the best matches\n",
    "top_matches = similarity_df.idxmax(axis=0).reset_index()\n",
    "top_matches.columns = ['BERD_NAME', 'MDR_NAME']\n",
    "top_matches['Similarity_Score'] = similarity_df.max(axis=0).values"
   ]
  },
  {
   "cell_type": "code",
   "execution_count": 5,
   "metadata": {},
   "outputs": [],
   "source": [
    "top_matches = top_matches.sort_values(by='Similarity_Score', ascending=False)"
   ]
  },
  {
   "cell_type": "code",
   "execution_count": 6,
   "metadata": {},
   "outputs": [],
   "source": [
    "\n",
    "top_matches['Similarity_Score'] = (round(top_matches['Similarity_Score'] * 100, 1)).astype(str) + '%'\n",
    "# Merging\n",
    "top_matches = top_matches.merge(berd_df[['New Variable Name', 'Question Number', '2023 Description']], left_on='BERD_NAME', right_on='New Variable Name', how='left').drop(columns=['New Variable Name'])\n",
    "top_matches = top_matches.merge(mdr_descriptions[['name', 'definition']], left_on='MDR_NAME', right_on='name', how='left').drop(columns=['name'])\n",
    "\n",
    "# Rename\n",
    "top_matches.rename(columns={\n",
    "    'definition': 'Definition (MDR)',\n",
    "    'Question Number': 'Question Number (BERD)',\n",
    "    '2023 Description': '2023 Description (BERD)'\n",
    "}, inplace=True)"
   ]
  },
  {
   "cell_type": "code",
   "execution_count": 7,
   "metadata": {},
   "outputs": [
    {
     "data": {
      "text/html": [
       "<div>\n",
       "<style scoped>\n",
       "    .dataframe tbody tr th:only-of-type {\n",
       "        vertical-align: middle;\n",
       "    }\n",
       "\n",
       "    .dataframe tbody tr th {\n",
       "        vertical-align: top;\n",
       "    }\n",
       "\n",
       "    .dataframe thead th {\n",
       "        text-align: right;\n",
       "    }\n",
       "</style>\n",
       "<table border=\"1\" class=\"dataframe\">\n",
       "  <thead>\n",
       "    <tr style=\"text-align: right;\">\n",
       "      <th></th>\n",
       "      <th>BERD_NAME</th>\n",
       "      <th>MDR_NAME</th>\n",
       "      <th>Similarity_Score</th>\n",
       "      <th>Question Number (BERD)</th>\n",
       "      <th>2023 Description (BERD)</th>\n",
       "      <th>Definition (MDR)</th>\n",
       "    </tr>\n",
       "  </thead>\n",
       "  <tbody>\n",
       "    <tr>\n",
       "      <th>1441</th>\n",
       "      <td>2ND_LRG_DOM_VAL</td>\n",
       "      <td>PHYSLOC_ADDR_CITY</td>\n",
       "      <td>32.5%</td>\n",
       "      <td>2-16</td>\n",
       "      <td>R&amp;D performed at second largest domestic location</td>\n",
       "      <td>Physical Location City</td>\n",
       "    </tr>\n",
       "    <tr>\n",
       "      <th>1442</th>\n",
       "      <td>2ND_LRG_DOM_VAL</td>\n",
       "      <td>PHYSLOC_ADDR_CITY</td>\n",
       "      <td>32.5%</td>\n",
       "      <td>2-16</td>\n",
       "      <td>R&amp;D performed at second largest domestic location</td>\n",
       "      <td>Physical Location City</td>\n",
       "    </tr>\n",
       "    <tr>\n",
       "      <th>1443</th>\n",
       "      <td>2ND_LRG_DOM_VAL</td>\n",
       "      <td>PHYSLOC_ADDR_CITY</td>\n",
       "      <td>32.5%</td>\n",
       "      <td>2-16</td>\n",
       "      <td>R&amp;D performed at second largest domestic location</td>\n",
       "      <td>Physical Location City</td>\n",
       "    </tr>\n",
       "    <tr>\n",
       "      <th>1444</th>\n",
       "      <td>2ND_LRG_DOM_VAL</td>\n",
       "      <td>PHYSLOC_ADDR_CITY</td>\n",
       "      <td>32.5%</td>\n",
       "      <td>2-16</td>\n",
       "      <td>R&amp;D performed at second largest domestic location</td>\n",
       "      <td>Physical Location City</td>\n",
       "    </tr>\n",
       "    <tr>\n",
       "      <th>1445</th>\n",
       "      <td>LRG_DOM_LOC_VAL</td>\n",
       "      <td>MERCH_OTHER_EST_PCT</td>\n",
       "      <td>32.4%</td>\n",
       "      <td>2-14</td>\n",
       "      <td>R&amp;D performed at largest domestic location</td>\n",
       "      <td>Merchandise Sales,  Products manufactured or a...</td>\n",
       "    </tr>\n",
       "  </tbody>\n",
       "</table>\n",
       "</div>"
      ],
      "text/plain": [
       "            BERD_NAME             MDR_NAME Similarity_Score  \\\n",
       "1441  2ND_LRG_DOM_VAL    PHYSLOC_ADDR_CITY            32.5%   \n",
       "1442  2ND_LRG_DOM_VAL    PHYSLOC_ADDR_CITY            32.5%   \n",
       "1443  2ND_LRG_DOM_VAL    PHYSLOC_ADDR_CITY            32.5%   \n",
       "1444  2ND_LRG_DOM_VAL    PHYSLOC_ADDR_CITY            32.5%   \n",
       "1445  LRG_DOM_LOC_VAL  MERCH_OTHER_EST_PCT            32.4%   \n",
       "\n",
       "     Question Number (BERD)  \\\n",
       "1441                   2-16   \n",
       "1442                   2-16   \n",
       "1443                   2-16   \n",
       "1444                   2-16   \n",
       "1445                   2-14   \n",
       "\n",
       "                                2023 Description (BERD)  \\\n",
       "1441  R&D performed at second largest domestic location   \n",
       "1442  R&D performed at second largest domestic location   \n",
       "1443  R&D performed at second largest domestic location   \n",
       "1444  R&D performed at second largest domestic location   \n",
       "1445         R&D performed at largest domestic location   \n",
       "\n",
       "                                       Definition (MDR)  \n",
       "1441                             Physical Location City  \n",
       "1442                             Physical Location City  \n",
       "1443                             Physical Location City  \n",
       "1444                             Physical Location City  \n",
       "1445  Merchandise Sales,  Products manufactured or a...  "
      ]
     },
     "execution_count": 7,
     "metadata": {},
     "output_type": "execute_result"
    }
   ],
   "source": [
    "top_matches.tail()"
   ]
  },
  {
   "cell_type": "code",
   "execution_count": 9,
   "metadata": {},
   "outputs": [],
   "source": [
    "top_matches.to_excel('result/mdr_berd_semantic_matching.xlsx')"
   ]
  }
 ],
 "metadata": {
  "kernelspec": {
   "display_name": "base",
   "language": "python",
   "name": "python3"
  },
  "language_info": {
   "codemirror_mode": {
    "name": "ipython",
    "version": 3
   },
   "file_extension": ".py",
   "mimetype": "text/x-python",
   "name": "python",
   "nbconvert_exporter": "python",
   "pygments_lexer": "ipython3",
   "version": "3.12.4"
  }
 },
 "nbformat": 4,
 "nbformat_minor": 2
}

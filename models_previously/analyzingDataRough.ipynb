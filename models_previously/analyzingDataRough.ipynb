{
 "cells": [
  {
   "cell_type": "code",
   "execution_count": 107,
   "metadata": {},
   "outputs": [],
   "source": [
    "import pandas as pd\n",
    "import torch\n",
    "from sentence_transformers import SentenceTransformer, util"
   ]
  },
  {
   "cell_type": "code",
   "execution_count": 108,
   "metadata": {},
   "outputs": [
    {
     "name": "stdout",
     "output_type": "stream",
     "text": [
      "Using device: cuda\n"
     ]
    }
   ],
   "source": [
    "\n",
    "\n",
    "# Set device to GPU if available\n",
    "device = 'cuda' if torch.cuda.is_available() else 'cpu'\n",
    "print(f\"Using device: {device}\")\n",
    "\n",
    "# Load datasets (adjust the paths as needed)\n",
    "mdr_df = pd.read_excel(\"data/mdr Variables 1.xlsx\")\n",
    "absmops_df = pd.read_excel(\"data/QFR_DataSet for Matching to MDR.xlsx\")\n",
    "answer_df = pd.read_excel(\"data/QFR_Variable_Mapping_20250205.xlsx\")\n",
    "absmops_df = absmops_df.merge(\n",
    "    answer_df[['Old Variable Name', 'New Variable Name']],  # Only take the column you want to add\n",
    "    how=\"inner\",\n",
    "    left_on=\"Legacy Variable Name\",\n",
    "    right_on=\"Old Variable Name\"\n",
    ")\n",
    "mdr_df = mdr_df[mdr_df['statistical_program_cycle_frame_type'] == 'Business Frame']\n",
    "absmops_df.drop_duplicates(subset=['Legacy Variable Name'], inplace=True)\n"
   ]
  },
  {
   "cell_type": "code",
   "execution_count": 109,
   "metadata": {},
   "outputs": [
    {
     "name": "stdout",
     "output_type": "stream",
     "text": [
      "Filtered and sorted results saved to 'mdr_absmops_filtered_matches.csv'\n"
     ]
    }
   ],
   "source": [
    "# Rename only necessary columns based on column index\n",
    "absmops_df = absmops_df.rename(columns={\n",
    "    absmops_df.columns[1]: \"Legacy Variable\",       # Column index 4\n",
    "    absmops_df.columns[-1]: \"Variable Name\",         # Column index 5\n",
    "    absmops_df.columns[4]: \"Description\"           # Column index 14\n",
    "})\n",
    "\n",
    "# Select only needed columns\n",
    "absmops_df = absmops_df[[\"Legacy Variable\", \"Variable Name\", \"Description\"]]\n",
    "\n",
    "# Prepare text\n",
    "mdr_descriptions = mdr_df['definition'].fillna(\"\").astype(str).tolist()\n",
    "absmops_descriptions = absmops_df['Description'].fillna(\"\").astype(str).tolist()\n",
    "\n",
    "# Load model\n",
    "model = SentenceTransformer('all-mpnet-base-v2', device=device)\n",
    "\n",
    "# Generate embeddings\n",
    "mdr_embeddings = model.encode(mdr_descriptions, convert_to_tensor=True, device=device)\n",
    "absmops_embeddings = model.encode(absmops_descriptions, convert_to_tensor=True, device=device)\n",
    "\n",
    "# Cosine similarity\n",
    "cosine_scores = util.cos_sim(mdr_embeddings, absmops_embeddings)\n",
    "best_matches = cosine_scores.argmax(dim=1).cpu().numpy()\n",
    "# Build result DataFrame\n",
    "results = pd.DataFrame({\n",
    "    'MDR Variable': mdr_df['name'],\n",
    "    'MDR Description': mdr_descriptions,\n",
    "    'ABS-MOPS Variable Name': absmops_df.iloc[best_matches]['Variable Name'].values,\n",
    "    'ABS-MOPS Description': absmops_df.iloc[best_matches]['Description'].values,\n",
    "    'Similarity Score': [cosine_scores[i, best_matches[i]].item() for i in range(len(best_matches))]\n",
    "})\n",
    "\n",
    "# Remove rows where MDR Variable is not in ABS-MOPS Variable Name list\n",
    "absmops_variable_set = set(absmops_df[\"Variable Name\"].dropna().str.lower().str.strip())\n",
    "results = results[\n",
    "    results['MDR Variable'].str.lower().str.strip().isin(absmops_variable_set)\n",
    "]\n",
    "\n",
    "# Match flags\n",
    "results['Name Match'] = (\n",
    "    results['MDR Variable'].str.lower().str.strip() ==\n",
    "    results['ABS-MOPS Variable Name'].str.lower().str.strip()\n",
    ").astype(int)\n",
    "\n",
    "results['Description Match'] = (\n",
    "    results['MDR Description'].str.lower().str.strip() ==\n",
    "    results['ABS-MOPS Description'].str.lower().str.strip()\n",
    ").astype(int)\n",
    "\n",
    "# Sort by similarity\n",
    "results = results.sort_values(by='Similarity Score', ascending=False)\n",
    "\n",
    "# Save\n",
    "results.to_csv(\"mdr_absmops_filtered_matches.csv\", index=False)\n",
    "print(\"Filtered and sorted results saved to 'mdr_absmops_filtered_matches.csv'\")\n"
   ]
  },
  {
   "cell_type": "code",
   "execution_count": 110,
   "metadata": {},
   "outputs": [
    {
     "name": "stdout",
     "output_type": "stream",
     "text": [
      "Comparison results saved to 'mdr_absmops_matches_with_flags.csv'\n"
     ]
    }
   ],
   "source": [
    "# Normalize for comparison (lowercase and strip whitespace)\n",
    "results['MDR Variable Clean'] = results['MDR Variable'].str.lower().str.strip()\n",
    "results['ABS-MOPS Variable Clean'] = results['ABS-MOPS Variable Name'].str.lower().str.strip()\n",
    "results['MDR Description Clean'] = results['MDR Description'].str.lower().str.strip()\n",
    "results['ABS-MOPS Description Clean'] = results['ABS-MOPS Description'].str.lower().str.strip()\n",
    "\n",
    "# Create match flags\n",
    "results['Name Match'] = (results['MDR Variable Clean'] == results['ABS-MOPS Variable Clean']).astype(int)\n",
    "\n",
    "# Drop temp clean columns if you don't want to keep them\n",
    "results.drop(columns=[\n",
    "    'MDR Variable Clean', \n",
    "    'ABS-MOPS Variable Clean', \n",
    "    'MDR Description Clean', \n",
    "    'ABS-MOPS Description Clean'\n",
    "], inplace=True)\n",
    "results = results.drop_duplicates(\n",
    "    subset=['MDR Variable', 'ABS-MOPS Variable Name', 'MDR Description', 'ABS-MOPS Description']\n",
    ")\n",
    "\n",
    "# Re-sort by Similarity Score\n",
    "results = results.sort_values(by='Similarity Score', ascending=False)\n",
    "\n",
    "# Save results\n",
    "results.to_csv(\"mdr_absmops_matches_with_flags.csv\", index=False)\n",
    "print(\"Comparison results saved to 'mdr_absmops_matches_with_flags.csv'\")\n"
   ]
  },
  {
   "cell_type": "code",
   "execution_count": 111,
   "metadata": {},
   "outputs": [
    {
     "data": {
      "text/html": [
       "<div>\n",
       "<style scoped>\n",
       "    .dataframe tbody tr th:only-of-type {\n",
       "        vertical-align: middle;\n",
       "    }\n",
       "\n",
       "    .dataframe tbody tr th {\n",
       "        vertical-align: top;\n",
       "    }\n",
       "\n",
       "    .dataframe thead th {\n",
       "        text-align: right;\n",
       "    }\n",
       "</style>\n",
       "<table border=\"1\" class=\"dataframe\">\n",
       "  <thead>\n",
       "    <tr style=\"text-align: right;\">\n",
       "      <th></th>\n",
       "      <th>MDR Variable</th>\n",
       "      <th>MDR Description</th>\n",
       "      <th>ABS-MOPS Variable Name</th>\n",
       "      <th>ABS-MOPS Description</th>\n",
       "      <th>Similarity Score</th>\n",
       "      <th>Name Match</th>\n",
       "      <th>Description Match</th>\n",
       "    </tr>\n",
       "  </thead>\n",
       "  <tbody>\n",
       "    <tr>\n",
       "      <th>8115</th>\n",
       "      <td>RCPT_TOT_VAL</td>\n",
       "      <td>Sales, Shipments, Receipts, or Revenue</td>\n",
       "      <td>RCPT_TOT_VAL</td>\n",
       "      <td>Sales Receipts and Operating Revenue-101</td>\n",
       "      <td>0.753976</td>\n",
       "      <td>1</td>\n",
       "      <td>0</td>\n",
       "    </tr>\n",
       "    <tr>\n",
       "      <th>7590</th>\n",
       "      <td>EXPS_DEPR_VAL</td>\n",
       "      <td>Depreciation and Amortization Charges</td>\n",
       "      <td>EXPS_DEPR_VAL</td>\n",
       "      <td>Depreciation,Depletion, Amortization-102</td>\n",
       "      <td>0.741466</td>\n",
       "      <td>1</td>\n",
       "      <td>0</td>\n",
       "    </tr>\n",
       "    <tr>\n",
       "      <th>7600</th>\n",
       "      <td>EXPS_INTEREST_VAL</td>\n",
       "      <td>Operating Interest Expense</td>\n",
       "      <td>EXPS_OP_COST_OTH_VAL</td>\n",
       "      <td>Other Operating Cost and Expenses    103</td>\n",
       "      <td>0.665146</td>\n",
       "      <td>0</td>\n",
       "      <td>0</td>\n",
       "    </tr>\n",
       "    <tr>\n",
       "      <th>7452</th>\n",
       "      <td>AFFIL_OWNER_EIN_NUM</td>\n",
       "      <td>Ownership or Controlling Company: EIN</td>\n",
       "      <td>AFFIL_OWNER_EIN_NUM</td>\n",
       "      <td>EI of company who owns</td>\n",
       "      <td>0.660261</td>\n",
       "      <td>1</td>\n",
       "      <td>0</td>\n",
       "    </tr>\n",
       "    <tr>\n",
       "      <th>7564</th>\n",
       "      <td>EIN_NUM</td>\n",
       "      <td>EIN to which the establishment is linked</td>\n",
       "      <td>EIN_NUM</td>\n",
       "      <td>EI of corp</td>\n",
       "      <td>0.577308</td>\n",
       "      <td>1</td>\n",
       "      <td>0</td>\n",
       "    </tr>\n",
       "    <tr>\n",
       "      <th>3167</th>\n",
       "      <td>OPSTAT</td>\n",
       "      <td>Operational Status, What is this establishment...</td>\n",
       "      <td>OPSTAT</td>\n",
       "      <td>Corp status active/discontinued/merged</td>\n",
       "      <td>0.564284</td>\n",
       "      <td>1</td>\n",
       "      <td>0</td>\n",
       "    </tr>\n",
       "    <tr>\n",
       "      <th>2357</th>\n",
       "      <td>EIN_NUM</td>\n",
       "      <td>Employer Identification Number</td>\n",
       "      <td>EIN_NUM</td>\n",
       "      <td>EI of corp</td>\n",
       "      <td>0.450451</td>\n",
       "      <td>1</td>\n",
       "      <td>0</td>\n",
       "    </tr>\n",
       "  </tbody>\n",
       "</table>\n",
       "</div>"
      ],
      "text/plain": [
       "             MDR Variable                                    MDR Description  \\\n",
       "8115         RCPT_TOT_VAL             Sales, Shipments, Receipts, or Revenue   \n",
       "7590        EXPS_DEPR_VAL              Depreciation and Amortization Charges   \n",
       "7600    EXPS_INTEREST_VAL                         Operating Interest Expense   \n",
       "7452  AFFIL_OWNER_EIN_NUM              Ownership or Controlling Company: EIN   \n",
       "7564              EIN_NUM           EIN to which the establishment is linked   \n",
       "3167               OPSTAT  Operational Status, What is this establishment...   \n",
       "2357              EIN_NUM                     Employer Identification Number   \n",
       "\n",
       "     ABS-MOPS Variable Name                      ABS-MOPS Description  \\\n",
       "8115           RCPT_TOT_VAL  Sales Receipts and Operating Revenue-101   \n",
       "7590          EXPS_DEPR_VAL  Depreciation,Depletion, Amortization-102   \n",
       "7600   EXPS_OP_COST_OTH_VAL  Other Operating Cost and Expenses    103   \n",
       "7452    AFFIL_OWNER_EIN_NUM                    EI of company who owns   \n",
       "7564                EIN_NUM                                EI of corp   \n",
       "3167                 OPSTAT    Corp status active/discontinued/merged   \n",
       "2357                EIN_NUM                                EI of corp   \n",
       "\n",
       "      Similarity Score  Name Match  Description Match  \n",
       "8115          0.753976           1                  0  \n",
       "7590          0.741466           1                  0  \n",
       "7600          0.665146           0                  0  \n",
       "7452          0.660261           1                  0  \n",
       "7564          0.577308           1                  0  \n",
       "3167          0.564284           1                  0  \n",
       "2357          0.450451           1                  0  "
      ]
     },
     "execution_count": 111,
     "metadata": {},
     "output_type": "execute_result"
    }
   ],
   "source": [
    "results"
   ]
  },
  {
   "cell_type": "code",
   "execution_count": 112,
   "metadata": {},
   "outputs": [
    {
     "data": {
      "text/plain": [
       "Name Match\n",
       "1    6\n",
       "0    1\n",
       "Name: count, dtype: int64"
      ]
     },
     "execution_count": 112,
     "metadata": {},
     "output_type": "execute_result"
    }
   ],
   "source": [
    "results[\"Name Match\"].value_counts()"
   ]
  }
 ],
 "metadata": {
  "kernelspec": {
   "display_name": "semanticMatchingEnv",
   "language": "python",
   "name": "python3"
  },
  "language_info": {
   "codemirror_mode": {
    "name": "ipython",
    "version": 3
   },
   "file_extension": ".py",
   "mimetype": "text/x-python",
   "name": "python",
   "nbconvert_exporter": "python",
   "pygments_lexer": "ipython3",
   "version": "3.9.21"
  }
 },
 "nbformat": 4,
 "nbformat_minor": 2
}

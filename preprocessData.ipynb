{
 "cells": [
  {
   "cell_type": "markdown",
   "metadata": {},
   "source": [
    "#### This notebook is to clean data and label the derived variables\n",
    "1. remove missing values of the key columns\n",
    "2. remove placeholder values such as tbd from the key columns\n",
    "3. remove duplicates of the key columns\n",
    "4. identify the variables if they are derived\n",
    "\n",
    "export data sets as clean data sets"
   ]
  },
  {
   "cell_type": "code",
   "execution_count": 17,
   "metadata": {},
   "outputs": [],
   "source": [
    "import pandas as pd"
   ]
  },
  {
   "cell_type": "code",
   "execution_count": 18,
   "metadata": {},
   "outputs": [],
   "source": [
    "pd.set_option('display.max_columns', None)\n",
    "pd.set_option('display.max_colwidth',500)  "
   ]
  },
  {
   "cell_type": "code",
   "execution_count": 19,
   "metadata": {},
   "outputs": [
    {
     "name": "stderr",
     "output_type": "stream",
     "text": [
      "C:\\Users\\cyy12\\mdr\\Lib\\site-packages\\openpyxl\\worksheet\\_reader.py:329: UserWarning: Data Validation extension is not supported and will be removed\n",
      "  warn(msg)\n"
     ]
    }
   ],
   "source": [
    "# Load datasets\n",
    "file_path_input = \"data/raw/ABS-MOPS Variables - December 11 2024.xlsm\"\n",
    "file_path_mdr = \"data/raw/mdr Variables 1.xlsx\"\n",
    "\n",
    "input_df = pd.read_excel(file_path_input, sheet_name=\"Data Sheet\", header=12).rename(columns={'Unnamed: 3':'Legacy Variable'})\n",
    "mdr_df = pd.read_excel(file_path_mdr)\n",
    "\n",
    "input_columns_to_check = [\"Legacy Variable\", \"Variable Name *\", \"Description *\"]\n",
    "mdr_columns_to_check = [\"name\", \"definition\"]"
   ]
  },
  {
   "cell_type": "code",
   "execution_count": 20,
   "metadata": {},
   "outputs": [],
   "source": [
    "# input_df[input_columns_to_check].head()"
   ]
  },
  {
   "cell_type": "code",
   "execution_count": 21,
   "metadata": {},
   "outputs": [],
   "source": [
    "# mdr_df[mdr_columns_to_check].head()"
   ]
  },
  {
   "cell_type": "code",
   "execution_count": 22,
   "metadata": {},
   "outputs": [
    {
     "name": "stdout",
     "output_type": "stream",
     "text": [
      "(395, 28)\n",
      "(41626, 9)\n",
      "(392, 28)\n",
      "(41451, 9)\n",
      "(371, 28)\n",
      "(37836, 9)\n"
     ]
    }
   ],
   "source": [
    "# Remove rows with any null values and remove duplicates\n",
    "print(input_df.shape)\n",
    "print(mdr_df.shape)\n",
    "input_df = input_df.dropna(subset=input_columns_to_check)\n",
    "mdr_df = mdr_df.dropna(subset=mdr_columns_to_check)\n",
    "print(input_df.shape)\n",
    "print(mdr_df.shape)\n",
    "input_df = input_df.drop_duplicates(subset=[\"Variable Name *\"])\n",
    "mdr_df = mdr_df.drop_duplicates(subset=[\"name\"])\n",
    "print(input_df.shape)\n",
    "print(mdr_df.shape)"
   ]
  },
  {
   "cell_type": "code",
   "execution_count": 23,
   "metadata": {},
   "outputs": [],
   "source": [
    "# Remove place holders like TBD\n",
    "\n",
    "placeholder_vars = ['tbd'] # lower case\n",
    "\n",
    "for var in placeholder_vars:\n",
    "    for col in mdr_columns_to_check:\n",
    "        to_drop = mdr_df[mdr_df[col].str.lower()==var].index\n",
    "        mdr_df = mdr_df.drop(to_drop)\n",
    "\n",
    "for var in placeholder_vars:\n",
    "    for col in input_columns_to_check:\n",
    "        to_drop = input_df[input_df[col].str.lower()==var].index\n",
    "        input_df = input_df.drop(to_drop)"
   ]
  },
  {
   "cell_type": "code",
   "execution_count": 24,
   "metadata": {},
   "outputs": [
    {
     "name": "stdout",
     "output_type": "stream",
     "text": [
      "if still missing values in input df:\n",
      " Legacy Variable    False\n",
      "Variable Name *    False\n",
      "Description *      False\n",
      "dtype: bool\n",
      "if still missing values in mdr df:\n",
      " name          False\n",
      "definition    False\n",
      "dtype: bool\n"
     ]
    }
   ],
   "source": [
    "# double check null \n",
    "missing_columns = input_df[input_columns_to_check].isnull().any()\n",
    "print('if still missing values in input df:\\n',missing_columns)\n",
    "\n",
    "missing_columns = mdr_df[mdr_columns_to_check].isnull().any()\n",
    "print('if still missing values in mdr df:\\n',missing_columns)"
   ]
  },
  {
   "cell_type": "code",
   "execution_count": 25,
   "metadata": {},
   "outputs": [
    {
     "name": "stdout",
     "output_type": "stream",
     "text": [
      "placeholder value: tbd\n",
      "if any tbd in input df: \n",
      " False\n",
      "if any tbd in mdr df: \n",
      " False\n"
     ]
    }
   ],
   "source": [
    "# double check placeholders:\n",
    "for var in placeholder_vars:\n",
    "    print(f'placeholder value: {var}')\n",
    "    \n",
    "    df_i = input_df[input_columns_to_check].map(lambda x: x.lower() if isinstance(x, str) else x)\n",
    "    value_exists = (df_i == var).any().any()\n",
    "    print(f'if any {var} in input df: \\n',value_exists)\n",
    "    \n",
    "    df_m = mdr_df[mdr_columns_to_check].map(lambda x: x.lower() if isinstance(x, str) else x)\n",
    "    value_exists = (df_m == var).any().any()\n",
    "    print(f'if any {var} in mdr df: \\n',value_exists)"
   ]
  },
  {
   "cell_type": "code",
   "execution_count": 26,
   "metadata": {},
   "outputs": [
    {
     "name": "stdout",
     "output_type": "stream",
     "text": [
      "(371, 28)\n",
      "(36618, 9)\n"
     ]
    }
   ],
   "source": [
    "print(input_df.shape)\n",
    "print(mdr_df.shape)"
   ]
  },
  {
   "cell_type": "markdown",
   "metadata": {},
   "source": [
    "### find the variables that are derived. --- per client instructions:\n",
    "* For the MDR names, there is a 'D' in front of the data type abbreviation. For instance, VALUE_ADDED_DVAL is the derived dollar value of the 'value added' variable concept. If this variable were not derived it would be named VALUE_ADDED_VAL\n",
    "* does the description/definition of the variable include the word \"derived\"? \n",
    "* is there a non-null rules formula value for the variable. If so, this variable is derived. The rules formula column exists for all AIES variables but may not exist for the other variables. You would have to pull it from the aies_variable_view in mdr prod. \n",
    "\n",
    "EXCLUDE the derived variables in the MDR file before attempting to run the model and make matches. "
   ]
  },
  {
   "cell_type": "code",
   "execution_count": 28,
   "metadata": {},
   "outputs": [],
   "source": [
    "# #  manually check if variables are derived\n",
    "# mdr_df['derived'] = 'no'\n",
    "# mask_derived = (mdr_df['definition'].str.lower().str.contains('derive')) | (mdr_df['name'].str.contains('_D')) \\\n",
    "#                | (mdr_df['name'].str.lower().str.contains('derive'))\n",
    "\n",
    "# ## ? not null rules .... \n",
    "\n",
    "# mdr_df.loc[mask_derived, 'derived'] = 'yes'\n",
    "\n",
    "# # to take a look at if anything else look like the derived in names\n",
    "# mdr_df[mdr_df['derived'] == 'yes'][['name','definition','derived']].to_excel('data/dbl_chk/mdr_derived_variables_check.xlsx', index=False)"
   ]
  },
  {
   "cell_type": "code",
   "execution_count": 29,
   "metadata": {},
   "outputs": [],
   "source": [
    "# define derived\n",
    "derived_data_type_list = ['_DVAL', '_DSUM']\n",
    "\n",
    "mdr_df['derived'] = 'no'\n",
    "mask_derived = (mdr_df['name'].str.contains('|'.join(derived_data_type_list), case=False, na=False))\n",
    "mdr_df.loc[mask_derived, 'derived'] = 'yes'\n",
    "\n",
    "input_df['derived'] = 'no'\n",
    "mask_derived = (input_df['Legacy Variable'].str.contains('|'.join(derived_data_type_list), case=False, na=False)) | (input_df['Variable Name *'].str.contains('|'.join(derived_data_type_list), case=False, na=False))\n",
    "input_df.loc[mask_derived, 'derived'] = 'yes'"
   ]
  },
  {
   "cell_type": "code",
   "execution_count": 44,
   "metadata": {},
   "outputs": [
    {
     "name": "stdout",
     "output_type": "stream",
     "text": [
      "(371, 29)\n",
      "(36618, 10)\n"
     ]
    }
   ],
   "source": [
    "print(input_df.shape)\n",
    "print(mdr_df.shape)"
   ]
  },
  {
   "cell_type": "code",
   "execution_count": 30,
   "metadata": {},
   "outputs": [],
   "source": [
    "# Save cleaned data to new files\n",
    "input_df.to_excel(\"data/cleanInput.xlsx\", index=False)\n",
    "mdr_df.to_excel(\"data/cleanMDR.xlsx\", index=False)"
   ]
  }
 ],
 "metadata": {
  "kernelspec": {
   "display_name": "Python mdr",
   "language": "python",
   "name": "mdr"
  },
  "language_info": {
   "codemirror_mode": {
    "name": "ipython",
    "version": 3
   },
   "file_extension": ".py",
   "mimetype": "text/x-python",
   "name": "python",
   "nbconvert_exporter": "python",
   "pygments_lexer": "ipython3",
   "version": "3.12.7"
  }
 },
 "nbformat": 4,
 "nbformat_minor": 4
}

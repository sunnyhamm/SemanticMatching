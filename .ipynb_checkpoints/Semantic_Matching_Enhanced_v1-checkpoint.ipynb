{
 "cells": [
  {
   "cell_type": "code",
   "execution_count": 1,
   "metadata": {},
   "outputs": [
    {
     "name": "stderr",
     "output_type": "stream",
     "text": [
      "<>:7: SyntaxWarning: invalid escape sequence '\\m'\n",
      "<>:7: SyntaxWarning: invalid escape sequence '\\m'\n",
      "C:\\Users\\Khoi Lam\\AppData\\Local\\Temp\\ipykernel_26872\\2701735666.py:7: SyntaxWarning: invalid escape sequence '\\m'\n",
      "  mdrfile = pd.read_excel('data\\mdr Variables 1.xlsx')\n"
     ]
    }
   ],
   "source": [
    "import pandas as pd\n",
    "from sentence_transformers import SentenceTransformer, util\n",
    "import os\n",
    "\n",
    "# Load the MDR dataset\n",
    "# This dataset contains existing variable names and their descriptions\n",
    "mdrfile = pd.read_excel('data\\mdr Variables 1.xlsx')\n",
    "mdr_defs = mdrfile[['name', 'definition']]"
   ]
  },
  {
   "cell_type": "code",
   "execution_count": 2,
   "metadata": {},
   "outputs": [
    {
     "name": "stderr",
     "output_type": "stream",
     "text": [
      "C:\\Users\\Khoi Lam\\AppData\\Local\\Temp\\ipykernel_26872\\2287206522.py:3: SettingWithCopyWarning: \n",
      "A value is trying to be set on a copy of a slice from a DataFrame.\n",
      "Try using .loc[row_indexer,col_indexer] = value instead\n",
      "\n",
      "See the caveats in the documentation: https://pandas.pydata.org/pandas-docs/stable/user_guide/indexing.html#returning-a-view-versus-a-copy\n",
      "  mdr_defs['definition'] = mdr_defs['definition'].fillna('')\n"
     ]
    }
   ],
   "source": [
    "#Fill NaNs with empty strings - ' '\n",
    "\n",
    "mdr_defs['definition'] = mdr_defs['definition'].fillna('')"
   ]
  },
  {
   "cell_type": "code",
   "execution_count": 3,
   "metadata": {},
   "outputs": [],
   "source": [
    "# Load a pre-trained Sentence-BERT (SBERT) model\n",
    "# 'all-MiniLM-L6-v2' is a lightweight and efficient model for generating sentence embeddings\n",
    "model = SentenceTransformer('all-MiniLM-L6-v2')\n",
    "\n",
    "# Encode the existing descriptions from the MDR dataset into embeddings\n",
    "definition_embeddings = model.encode(mdr_defs['definition'].tolist())"
   ]
  },
  {
   "cell_type": "code",
   "execution_count": 4,
   "metadata": {},
   "outputs": [
    {
     "name": "stderr",
     "output_type": "stream",
     "text": [
      "<>:2: SyntaxWarning: invalid escape sequence '\\A'\n",
      "<>:2: SyntaxWarning: invalid escape sequence '\\A'\n",
      "C:\\Users\\Khoi Lam\\AppData\\Local\\Temp\\ipykernel_26872\\2207785229.py:2: SyntaxWarning: invalid escape sequence '\\A'\n",
      "  abs_mops = pd.read_excel('data\\ABS-MOPS Variables - December 11 2024.xlsm', sheet_name=['Data Sheet'], header=13)\n",
      "c:\\Users\\Khoi Lam\\Downloads\\cam\\New folder\\Lib\\site-packages\\openpyxl\\worksheet\\_read_only.py:81: UserWarning: Data Validation extension is not supported and will be removed\n",
      "  for idx, row in parser.parse():\n",
      "C:\\Users\\Khoi Lam\\AppData\\Local\\Temp\\ipykernel_26872\\2207785229.py:10: SettingWithCopyWarning: \n",
      "A value is trying to be set on a copy of a slice from a DataFrame\n",
      "\n",
      "See the caveats in the documentation: https://pandas.pydata.org/pandas-docs/stable/user_guide/indexing.html#returning-a-view-versus-a-copy\n",
      "  abs_defs.rename(columns={\n"
     ]
    }
   ],
   "source": [
    "# Load the ABS-MOPS dataset\n",
    "abs_mops = pd.read_excel('data\\ABS-MOPS Variables - December 11 2024.xlsm', sheet_name=['Data Sheet'], header=13)\n",
    "abs_mops = abs_mops['Data Sheet']\n",
    "abs_mops.head(2)\n",
    "\n",
    "# Rename columns for clarity\n",
    "abs_defs = abs_mops[['Provide a brief description of the variable, this will alert staff entering content of its intended purpose\\n\\nNOTE: Maximum number of characters should be 500', \n",
    "                     'Legacy Variable',\n",
    "                     'Unique Name for Variable \\nOn upload, will verify with those already in database to ensure unique and alert to those that are not\\n\\nNOTE: \\n1) Variable Names should be all caps with no spaces\\n2) Variables can not end with _# or _## as those are reserved for handling of repeating persons.']]\n",
    "abs_defs.rename(columns={\n",
    "    'Legacy Variable': 'legacy_variable',\n",
    "    'Provide a brief description of the variable, this will alert staff entering content of its intended purpose\\n\\nNOTE: Maximum number of characters should be 500': 'description',\n",
    "    'Unique Name for Variable \\nOn upload, will verify with those already in database to ensure unique and alert to those that are not\\n\\nNOTE: \\n1) Variable Names should be all caps with no spaces\\n2) Variables can not end with _# or _## as those are reserved for handling of repeating persons.': 'ABS-MOPS_New_Variable_Name'\n",
    "}, inplace=True)\n",
    "\n",
    "# Encode the new descriptions from the ABS-MOPS dataset into embeddings\n",
    "new_definition_embeddings = model.encode(abs_defs['description'].tolist())"
   ]
  },
  {
   "cell_type": "code",
   "execution_count": 5,
   "metadata": {},
   "outputs": [
    {
     "data": {
      "text/html": [
       "<div>\n",
       "<style scoped>\n",
       "    .dataframe tbody tr th:only-of-type {\n",
       "        vertical-align: middle;\n",
       "    }\n",
       "\n",
       "    .dataframe tbody tr th {\n",
       "        vertical-align: top;\n",
       "    }\n",
       "\n",
       "    .dataframe thead th {\n",
       "        text-align: right;\n",
       "    }\n",
       "</style>\n",
       "<table border=\"1\" class=\"dataframe\">\n",
       "  <thead>\n",
       "    <tr style=\"text-align: right;\">\n",
       "      <th></th>\n",
       "      <th>description</th>\n",
       "      <th>legacy_variable</th>\n",
       "      <th>ABS-MOPS_New_Variable_Name</th>\n",
       "    </tr>\n",
       "  </thead>\n",
       "  <tbody>\n",
       "    <tr>\n",
       "      <th>0</th>\n",
       "      <td>Yes/No if business has ceased operation</td>\n",
       "      <td>B_OPR_CEASED</td>\n",
       "      <td>OPSTAT_CEASED_STAT</td>\n",
       "    </tr>\n",
       "    <tr>\n",
       "      <th>1</th>\n",
       "      <td>Month the business ceased operation</td>\n",
       "      <td>B_CEASED_MONTH</td>\n",
       "      <td>OPSTAT_CEASED_MONTH_DATE</td>\n",
       "    </tr>\n",
       "    <tr>\n",
       "      <th>2</th>\n",
       "      <td>Year the business ceased operation</td>\n",
       "      <td>B_CEASED_DATE_ YEAR</td>\n",
       "      <td>OPSTAT_CEASED_YEAR_DATE</td>\n",
       "    </tr>\n",
       "    <tr>\n",
       "      <th>3</th>\n",
       "      <td>Yes/No if business is a majority-owned subsidi...</td>\n",
       "      <td>B_PARENTCO_FOREIGN</td>\n",
       "      <td>OWNED_FOREIGN_STAT</td>\n",
       "    </tr>\n",
       "    <tr>\n",
       "      <th>4</th>\n",
       "      <td>Yes/No if business is more than 50% owned by a...</td>\n",
       "      <td>B_PARENTCO_DOMESTIC</td>\n",
       "      <td>OWNED_DOMESTIC_STAT</td>\n",
       "    </tr>\n",
       "  </tbody>\n",
       "</table>\n",
       "</div>"
      ],
      "text/plain": [
       "                                         description       legacy_variable  \\\n",
       "0            Yes/No if business has ceased operation          B_OPR_CEASED   \n",
       "1                Month the business ceased operation        B_CEASED_MONTH   \n",
       "2                 Year the business ceased operation  B_CEASED_DATE_ YEAR    \n",
       "3  Yes/No if business is a majority-owned subsidi...    B_PARENTCO_FOREIGN   \n",
       "4  Yes/No if business is more than 50% owned by a...   B_PARENTCO_DOMESTIC   \n",
       "\n",
       "  ABS-MOPS_New_Variable_Name  \n",
       "0         OPSTAT_CEASED_STAT  \n",
       "1   OPSTAT_CEASED_MONTH_DATE  \n",
       "2    OPSTAT_CEASED_YEAR_DATE  \n",
       "3         OWNED_FOREIGN_STAT  \n",
       "4        OWNED_DOMESTIC_STAT  "
      ]
     },
     "execution_count": 5,
     "metadata": {},
     "output_type": "execute_result"
    }
   ],
   "source": [
    "abs_defs.head()"
   ]
  },
  {
   "cell_type": "code",
   "execution_count": 6,
   "metadata": {},
   "outputs": [],
   "source": [
    "# Initialize a list to store results\n",
    "results = []\n",
    "\n",
    "# Calculate cosine similarities for each new description\n",
    "for i, new_embedding in enumerate(new_definition_embeddings):\n",
    "    # Compute cosine similarity between the new embedding and all existing embeddings\n",
    "    similarities = util.pytorch_cos_sim(new_embedding, definition_embeddings)\n",
    "    \n",
    "    # Get the indices of the top 3 most similar embeddings\n",
    "    top_3_indices = similarities.argsort(descending=True)[0][:3].tolist()\n",
    "    \n",
    "    # Store the top 3 matches along with their similarity scores\n",
    "    top_matches = []\n",
    "    for idx in top_3_indices:\n",
    "        top_matches.append({\n",
    "            'most_similar_variable_name_from_MDR': mdr_defs['name'][idx],\n",
    "            'similarity_score': similarities[0][idx].item()            \n",
    "        })\n",
    "    \n",
    "    # If there are less than 3 matches, pad with low similarity scores\n",
    "    while len(top_matches) < 3:\n",
    "        top_matches.append({\n",
    "            'most_similar_variable_name_from_MDR': 'N/A',\n",
    "            'similarity_score': 0.0\n",
    "        })\n",
    "    \n",
    "    # Append the results for the current new variable\n",
    "    results.append({\n",
    "        'legacy_variable_name_from_ABS_MOPS': abs_defs['legacy_variable'][i],\n",
    "        'ABS-MOPS_New_Variable_Name': abs_defs['ABS-MOPS_New_Variable_Name'][i],\n",
    "        'top_matches': top_matches\n",
    "    })"
   ]
  },
  {
   "cell_type": "code",
   "execution_count": 7,
   "metadata": {},
   "outputs": [
    {
     "name": "stdout",
     "output_type": "stream",
     "text": [
      "                                                                                        similarity_score\n",
      "ABS MOPS - Legacy Variables MDR - Matching Variable Name ABS MOPS - New Variable Names                  \n",
      "B_OPR_CEASED                BUS_TECH_ADD_MFG_N_ARCHIVE   OPSTAT_CEASED_STAT                     0.586060\n",
      "                            BUS_TECH_ADD_MFG_Y_ARCHIVE   OPSTAT_CEASED_STAT                     0.586060\n",
      "                            BUS_TECH_ADD_MFG             OPSTAT_CEASED_STAT                     0.586060\n",
      "B_CEASED_MONTH              OPSTAT_DATE                  OPSTAT_CEASED_MONTH_DATE               0.674443\n",
      "                                                         OPSTAT_CEASED_MONTH_DATE               0.674443\n"
     ]
    }
   ],
   "source": [
    "# Create a new DataFrame from the results\n",
    "results_df = pd.DataFrame(results)\n",
    "\n",
    "# Explode the 'top_matches' column to create separate rows for each top match\n",
    "exploded_df = results_df.explode('top_matches')\n",
    "\n",
    "# Extract the 'top_matches' dictionary into separate columns\n",
    "exploded_df = pd.concat([exploded_df.drop(['top_matches'], axis=1), exploded_df['top_matches'].apply(pd.Series)], axis=1)\n",
    "exploded_df.rename(columns ={\n",
    "    'legacy_variable_name_from_ABS_MOPS': 'ABS MOPS - Legacy Variables',\n",
    "    'most_similar_variable_name_from_MDR': 'MDR - Matching Variable Name',\n",
    "    'ABS-MOPS_New_Variable_Name': 'ABS MOPS - New Variable Names'\n",
    "}, inplace = True)\n",
    "exploded_df = exploded_df.set_index(['ABS MOPS - Legacy Variables', 'MDR - Matching Variable Name', 'ABS MOPS - New Variable Names'])\n",
    "print(exploded_df.head())\n"
   ]
  },
  {
   "cell_type": "code",
   "execution_count": 12,
   "metadata": {},
   "outputs": [
    {
     "name": "stdout",
     "output_type": "stream",
     "text": [
      "                                                                                                               Similarity Score\n",
      "ABS MOPS - Legacy Variables                        MDR - Matching Variable Name ABS MOPS - New Variable Names                  \n",
      "\\nRESP_TITLE                                       CERT_TITLE_TXT               CERT_TITLE_TXT                             1.00\n",
      "RESP_PHONE_AREA_CODE\\nRESP_PHONE_PREFIX, RESP_P... CERT_PHONE_NUM               CERT_PHONE_NUM                             1.00\n",
      "RESP_PHONE_EXT                                     CERT_EXTENSION_NUM           CERT_EXTENSION_NUM                         1.00\n",
      "RESP_CONTACT_NAME                                  CERT_NAME_TXT                CERT_NAME_TXT                              1.00\n",
      "                                                                                CERT_NAME_TXT                              1.00\n",
      "RESP_EMAIL                                         CERT_EMAIL_TXT               CERT_EMAIL_TXT                             0.94\n",
      "                                                                                CERT_EMAIL_TXT                             0.94\n",
      "TCPEX                                              CAPEX_CO_VAL                 CAPEX_TOT_VAL                              0.90\n",
      "                                                   CAPEX_USED_TOT_DVAL          CAPEX_TOT_VAL                              0.90\n",
      "                                                   CAPEX_OTH_USED_VAL           CAPEX_TOT_VAL                              0.90\n",
      "EXPNS                                              SUBEXPX                      EXPS_TOT_VAL                               0.90\n",
      "B_CAPEXP_TOTAL                                     CAPEX_MACH_OTH               CAPEX_TOT_VAL                              0.88\n",
      "                                                                                CAPEX_TOT_VAL                              0.88\n",
      "                                                   CAPEX_OTH_USED_VAL           CAPEX_TOT_VAL                              0.87\n",
      "B_OPEXPENSE                                        EXPS_TOT_VAL                 EXPS_TOT_VAL                               0.87\n"
     ]
    }
   ],
   "source": [
    "# Sort the DataFrame by the highest similarity score\n",
    "sorted_df = exploded_df.sort_values(by='similarity_score', ascending=False)\n",
    "# Rename columns for better readability\n",
    "sorted_df.rename(columns={\n",
    "    'similarity_score': 'Similarity Score'\n",
    "}, inplace=True)\n",
    "\n",
    "sorted_df['Similarity Score'] = sorted_df['Similarity Score'].round(2)\n",
    "# Display the top 15 rows of the sorted DataFrame\n",
    "print(sorted_df.head(15))"
   ]
  },
  {
   "cell_type": "code",
   "execution_count": 13,
   "metadata": {},
   "outputs": [
    {
     "name": "stdout",
     "output_type": "stream",
     "text": [
      "File saved as 'output.xlsx\n"
     ]
    },
    {
     "data": {
      "text/plain": [
       "1"
      ]
     },
     "execution_count": 13,
     "metadata": {},
     "output_type": "execute_result"
    }
   ],
   "source": [
    "# Save the DataFrame to an Excel file with adjusted column widths\n",
    "output_path = 'result/Matching ABS MOPS Legacy to MDR Variable Names output.xlsx'\n",
    "\n",
    "sorted_df.to_excel(output_path)\n",
    "\n",
    "print(\"File saved as 'output.xlsx\")\n",
    "os.system(output_path)"
   ]
  }
 ],
 "metadata": {
  "kernelspec": {
   "display_name": "base",
   "language": "python",
   "name": "python3"
  },
  "language_info": {
   "codemirror_mode": {
    "name": "ipython",
    "version": 3
   },
   "file_extension": ".py",
   "mimetype": "text/x-python",
   "name": "python",
   "nbconvert_exporter": "python",
   "pygments_lexer": "ipython3",
   "version": "3.12.4"
  }
 },
 "nbformat": 4,
 "nbformat_minor": 2
}

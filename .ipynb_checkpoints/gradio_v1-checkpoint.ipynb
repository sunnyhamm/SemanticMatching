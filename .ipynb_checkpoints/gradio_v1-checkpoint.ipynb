{
 "cells": [
  {
   "cell_type": "code",
   "execution_count": 23,
   "id": "4418fea9-9fcb-4bc5-9c0d-2f32a2985a85",
   "metadata": {},
   "outputs": [],
   "source": [
    "import pandas as pd\n",
    "import numpy as np\n",
    "import gradio as gr\n",
    "import tempfile\n",
    "from scipy.sparse import csr_matrix\n",
    "import gensim.downloader as api\n",
    "from sentence_transformers import SentenceTransformer, util\n",
    "from sklearn.feature_extraction.text import CountVectorizer\n",
    "from gensim.utils import simple_preprocess\n",
    "from concurrent.futures import ThreadPoolExecutor\n",
    "import chardet\n",
    "import torch\n",
    "device = torch.device(\"cuda\" if torch.cuda.is_available() else \"cpu\")\n",
    "from UI_semanticMatching import *\n",
    "matcher = MatchingFunction()\n",
    "from UI_input_output import read_clean_model\n",
    "pd.set_option('display.max_columns', None)\n",
    "pd.set_option('display.max_colwidth',500)  "
   ]
  },
  {
   "cell_type": "code",
   "execution_count": 35,
   "id": "56764d38-c9dd-457a-b3e0-790ca3b69379",
   "metadata": {},
   "outputs": [
    {
     "name": "stdout",
     "output_type": "stream",
     "text": [
      "* Running on local URL:  http://127.0.0.1:7868\n",
      "\n",
      "To create a public link, set `share=True` in `launch()`.\n"
     ]
    },
    {
     "data": {
      "text/html": [
       "<div><iframe src=\"http://127.0.0.1:7868/\" width=\"100%\" height=\"500\" allow=\"autoplay; camera; microphone; clipboard-read; clipboard-write;\" frameborder=\"0\" allowfullscreen></iframe></div>"
      ],
      "text/plain": [
       "<IPython.core.display.HTML object>"
      ]
     },
     "metadata": {},
     "output_type": "display_data"
    },
    {
     "data": {
      "text/plain": []
     },
     "execution_count": 35,
     "metadata": {},
     "output_type": "execute_result"
    }
   ],
   "source": [
    "# Backend logic: accepts two files, processes them, returns a new DataFrame\n",
    "def process_two_csvs(file_path_input, file_path_mdr):\n",
    "    if file_path_input is None or file_path_mdr is None:\n",
    "        return pd.DataFrame()  # Return empty DataFrame if either is missing\n",
    "\n",
    "    # Read both files into DataFrames with their own encoding\n",
    "    with open(file_path_input, 'rb') as f:\n",
    "        result = chardet.detect(f.read())\n",
    "    encoding_input = result['encoding']\n",
    "    \n",
    "    with open(file_path_mdr, 'rb') as f:\n",
    "        result = chardet.detect(f.read())\n",
    "    encoding_mdr = result['encoding']\n",
    "    \n",
    "    input_df = pd.read_csv(file_path_input, encoding=encoding_input)\n",
    "    print(len(input_df))\n",
    "    mdr_df = pd.read_csv(file_path_mdr, encoding=encoding_mdr)\n",
    "    print(len(mdr_df))\n",
    "\n",
    "    # clean and run through models\n",
    "    result_df = read_clean_model(input_df, mdr_df)\n",
    "    \n",
    "    # Save to temp CSV for download\n",
    "    tmp_file = tempfile.NamedTemporaryFile(delete=False, suffix=\".csv\")\n",
    "    result_df.to_csv(tmp_file.name, index=False)\n",
    "\n",
    "    return result_df, tmp_file.name\n",
    "\n",
    "with gr.Blocks() as demo:\n",
    "    gr.Markdown(\"## Semantic Matching between Input and MDR\")\n",
    "\n",
    "    with gr.Row():\n",
    "        l1 = gr.Markdown(\n",
    "        \"\"\"\n",
    "        Upload Input file\n",
    "        (file must contains at least two columns: **variable** and **description**)\n",
    "        \"\"\")\n",
    "        csv_input = gr.File(label=\"Upload Input File\",\n",
    "                    file_types=[\".csv\"])\n",
    "        l2 = gr.Markdown(\n",
    "        \"\"\"\n",
    "        Upload MDR file\n",
    "        (file must contains at least two columns: **name** and **definition**)\n",
    "        \"\"\")\n",
    "        csv_mdr = gr.File(label=\"Upload MDR File\", \n",
    "                    file_types=[\".csv\"])\n",
    "\n",
    "    process_btn = gr.Button(\"Process Files\")\n",
    "\n",
    "    output_table = gr.Dataframe(\n",
    "        label=\"🔍 Processed Data\",\n",
    "        interactive=True,   # Enables sorting, filtering, and editing\n",
    "        row_count=10,\n",
    "        column_widths=\"auto\"\n",
    "    )\n",
    "\n",
    "    download_link = gr.File(label=\"⬇️ Download Result CSV\")\n",
    "\n",
    "    process_btn.click(\n",
    "        fn=process_two_csvs,\n",
    "        inputs=[csv_input, csv_mdr],\n",
    "        outputs=[output_table, download_link]\n",
    "    )\n",
    "\n",
    "demo.launch()\n"
   ]
  },
  {
   "cell_type": "code",
   "execution_count": 33,
   "id": "42993ce2-4ca6-4bba-bb58-2d1e4bb4a56d",
   "metadata": {},
   "outputs": [],
   "source": [
    "# !jupyter nbconvert --to script gradio_v1.ipynb"
   ]
  },
  {
   "cell_type": "code",
   "execution_count": null,
   "id": "be63033b-2824-431a-b903-0c73c411e066",
   "metadata": {},
   "outputs": [],
   "source": []
  }
 ],
 "metadata": {
  "kernelspec": {
   "display_name": "Python mdr",
   "language": "python",
   "name": "mdr"
  },
  "language_info": {
   "codemirror_mode": {
    "name": "ipython",
    "version": 3
   },
   "file_extension": ".py",
   "mimetype": "text/x-python",
   "name": "python",
   "nbconvert_exporter": "python",
   "pygments_lexer": "ipython3",
   "version": "3.12.7"
  }
 },
 "nbformat": 4,
 "nbformat_minor": 5
}

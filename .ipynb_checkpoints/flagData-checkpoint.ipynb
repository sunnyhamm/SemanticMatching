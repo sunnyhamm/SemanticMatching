{
 "cells": [
  {
   "cell_type": "markdown",
   "id": "6c5af448-9057-4a7c-8d7a-8305fa3cc4c9",
   "metadata": {},
   "source": [
    "### This notebook is to\n",
    "1. identify the variables that are derived\n",
    "\n"
   ]
  },
  {
   "cell_type": "code",
   "execution_count": 5,
   "id": "b4c9a47a-f808-47e4-85d4-78617c5e3303",
   "metadata": {},
   "outputs": [],
   "source": [
    "import pandas as pd\n",
    "\n",
    "pd.set_option('display.max_columns', None)\n",
    "pd.set_option('display.max_colwidth',500)  "
   ]
  },
  {
   "cell_type": "code",
   "execution_count": 33,
   "id": "a82f0890-43b9-4608-92d3-69ff9ed15844",
   "metadata": {},
   "outputs": [],
   "source": [
    "# Load datasets --- cleaned datasets are produced from the cleaningData.jpynb\n",
    "file_path_input = \"data/cleanABS.xlsx\"\n",
    "file_path_mdr = \"data/cleanMDR.xlsx\"\n",
    "\n",
    "input_df = pd.read_excel(file_path_input)\n",
    "mdr_df = pd.read_excel(file_path_mdr)\n",
    "\n",
    "input_columns_to_check = [\"Legacy Variable\", \"Variable Name *\", \"Description *\"]\n",
    "mdr_columns_to_check = [\"name\", \"definition\"]"
   ]
  },
  {
   "cell_type": "code",
   "execution_count": 8,
   "id": "306c490c-79c0-4efc-bf53-64743c93140c",
   "metadata": {},
   "outputs": [
    {
     "data": {
      "text/html": [
       "<div>\n",
       "<style scoped>\n",
       "    .dataframe tbody tr th:only-of-type {\n",
       "        vertical-align: middle;\n",
       "    }\n",
       "\n",
       "    .dataframe tbody tr th {\n",
       "        vertical-align: top;\n",
       "    }\n",
       "\n",
       "    .dataframe thead th {\n",
       "        text-align: right;\n",
       "    }\n",
       "</style>\n",
       "<table border=\"1\" class=\"dataframe\">\n",
       "  <thead>\n",
       "    <tr style=\"text-align: right;\">\n",
       "      <th></th>\n",
       "      <th>Legacy Variable</th>\n",
       "      <th>Variable Name *</th>\n",
       "      <th>Description *</th>\n",
       "    </tr>\n",
       "  </thead>\n",
       "  <tbody>\n",
       "    <tr>\n",
       "      <th>0</th>\n",
       "      <td>Legacy Variable</td>\n",
       "      <td>Unique Name for Variable \\nOn upload, will verify with those already in database to ensure unique and alert to those that are not\\n\\nNOTE: \\n1) Variable Names should be all caps with no spaces\\n2) Variables can not end with _# or _## as those are reserved for handling of repeating persons.</td>\n",
       "      <td>Provide a brief description of the variable, this will alert staff entering content of its intended purpose\\n\\nNOTE: Maximum number of characters should be 500</td>\n",
       "    </tr>\n",
       "    <tr>\n",
       "      <th>1</th>\n",
       "      <td>B_OPR_CEASED</td>\n",
       "      <td>OPSTAT_CEASED_STAT</td>\n",
       "      <td>Yes/No if business has ceased operation</td>\n",
       "    </tr>\n",
       "    <tr>\n",
       "      <th>2</th>\n",
       "      <td>B_CEASED_MONTH</td>\n",
       "      <td>OPSTAT_CEASED_MONTH_DATE</td>\n",
       "      <td>Month the business ceased operation</td>\n",
       "    </tr>\n",
       "    <tr>\n",
       "      <th>3</th>\n",
       "      <td>B_CEASED_DATE_ YEAR</td>\n",
       "      <td>OPSTAT_CEASED_YEAR_DATE</td>\n",
       "      <td>Year the business ceased operation</td>\n",
       "    </tr>\n",
       "    <tr>\n",
       "      <th>4</th>\n",
       "      <td>B_PARENTCO_FOREIGN</td>\n",
       "      <td>OWNED_FOREIGN_STAT</td>\n",
       "      <td>Yes/No if business is a majority-owned subsidiary of a foreign company</td>\n",
       "    </tr>\n",
       "  </tbody>\n",
       "</table>\n",
       "</div>"
      ],
      "text/plain": [
       "        Legacy Variable  \\\n",
       "0       Legacy Variable   \n",
       "1          B_OPR_CEASED   \n",
       "2        B_CEASED_MONTH   \n",
       "3  B_CEASED_DATE_ YEAR    \n",
       "4    B_PARENTCO_FOREIGN   \n",
       "\n",
       "                                                                                                                                                                                                                                                                                      Variable Name *  \\\n",
       "0  Unique Name for Variable \\nOn upload, will verify with those already in database to ensure unique and alert to those that are not\\n\\nNOTE: \\n1) Variable Names should be all caps with no spaces\\n2) Variables can not end with _# or _## as those are reserved for handling of repeating persons.   \n",
       "1                                                                                                                                                                                                                                                                                  OPSTAT_CEASED_STAT   \n",
       "2                                                                                                                                                                                                                                                                            OPSTAT_CEASED_MONTH_DATE   \n",
       "3                                                                                                                                                                                                                                                                             OPSTAT_CEASED_YEAR_DATE   \n",
       "4                                                                                                                                                                                                                                                                                  OWNED_FOREIGN_STAT   \n",
       "\n",
       "                                                                                                                                                     Description *  \n",
       "0  Provide a brief description of the variable, this will alert staff entering content of its intended purpose\\n\\nNOTE: Maximum number of characters should be 500  \n",
       "1                                                                                                                          Yes/No if business has ceased operation  \n",
       "2                                                                                                                              Month the business ceased operation  \n",
       "3                                                                                                                               Year the business ceased operation  \n",
       "4                                                                                           Yes/No if business is a majority-owned subsidiary of a foreign company  "
      ]
     },
     "execution_count": 8,
     "metadata": {},
     "output_type": "execute_result"
    }
   ],
   "source": [
    "input_df[input_columns_to_check].head()"
   ]
  },
  {
   "cell_type": "code",
   "execution_count": 9,
   "id": "3d95d17a-7034-4b0c-8cc7-2c400daa94ad",
   "metadata": {},
   "outputs": [
    {
     "data": {
      "text/html": [
       "<div>\n",
       "<style scoped>\n",
       "    .dataframe tbody tr th:only-of-type {\n",
       "        vertical-align: middle;\n",
       "    }\n",
       "\n",
       "    .dataframe tbody tr th {\n",
       "        vertical-align: top;\n",
       "    }\n",
       "\n",
       "    .dataframe thead th {\n",
       "        text-align: right;\n",
       "    }\n",
       "</style>\n",
       "<table border=\"1\" class=\"dataframe\">\n",
       "  <thead>\n",
       "    <tr style=\"text-align: right;\">\n",
       "      <th></th>\n",
       "      <th>name</th>\n",
       "      <th>definition</th>\n",
       "    </tr>\n",
       "  </thead>\n",
       "  <tbody>\n",
       "    <tr>\n",
       "      <th>0</th>\n",
       "      <td>BENEFIT_HEALTH</td>\n",
       "      <td>Employer's cost for health insurance</td>\n",
       "    </tr>\n",
       "    <tr>\n",
       "      <th>1</th>\n",
       "      <td>BENEFIT_HEALTH_PY</td>\n",
       "      <td>Employer's cost for health insurance  Prior Year</td>\n",
       "    </tr>\n",
       "    <tr>\n",
       "      <th>2</th>\n",
       "      <td>BENEFIT_OTH</td>\n",
       "      <td>Employer's Cost for other benefits</td>\n",
       "    </tr>\n",
       "    <tr>\n",
       "      <th>3</th>\n",
       "      <td>BENEFIT_OTH_PY</td>\n",
       "      <td>Employer's Cost for other benefits   Prior Year</td>\n",
       "    </tr>\n",
       "    <tr>\n",
       "      <th>4</th>\n",
       "      <td>BENEFIT_PENSION_BEN</td>\n",
       "      <td>Employer's Cost for defined benefit pension plans</td>\n",
       "    </tr>\n",
       "  </tbody>\n",
       "</table>\n",
       "</div>"
      ],
      "text/plain": [
       "                  name                                         definition\n",
       "0       BENEFIT_HEALTH               Employer's cost for health insurance\n",
       "1    BENEFIT_HEALTH_PY   Employer's cost for health insurance  Prior Year\n",
       "2          BENEFIT_OTH                 Employer's Cost for other benefits\n",
       "3       BENEFIT_OTH_PY    Employer's Cost for other benefits   Prior Year\n",
       "4  BENEFIT_PENSION_BEN  Employer's Cost for defined benefit pension plans"
      ]
     },
     "execution_count": 9,
     "metadata": {},
     "output_type": "execute_result"
    }
   ],
   "source": [
    "mdr_df[mdr_columns_to_check].head()"
   ]
  },
  {
   "cell_type": "markdown",
   "id": "462de1c3-4903-44dc-8fc7-34746fa4641c",
   "metadata": {},
   "source": [
    "### find the variables that are derived. --- per client instructions:\n",
    "* For the MDR names, there is a 'D' in front of the data type abbreviation. For instance, VALUE_ADDED_DVAL is the derived dollar value of the 'value added' variable concept. If this variable were not derived it would be named VALUE_ADDED_VAL\n",
    "* does the description/definition of the variable include the word \"derived\"? \n",
    "* is there a non-null rules formula value for the variable. If so, this variable is derived. The rules formula column exists for all AIES variables but may not exist for the other variables. You would have to pull it from the aies_variable_view in mdr prod. \n",
    "\n",
    "*If you find that it is impossible to identify the derived variables in the legacy variable files, I would EXCLUDE the derived variables in the MDR file before attempting to run the model and make matches. "
   ]
  },
  {
   "cell_type": "code",
   "execution_count": 47,
   "id": "8f2eafea-bf4c-48a5-b0ab-45e15ede013c",
   "metadata": {},
   "outputs": [],
   "source": [
    "# checking and review\n",
    "mdr_df['derived'] = 'no'\n",
    "mask_derived = (mdr_df['definition'].str.lower().str.contains('derive')) | (mdr_df['name'].str.contains('_D')) \\\n",
    "               | (mdr_df['name'].str.lower().str.contains('derive'))\n",
    "\n",
    "# some of the _D are not derived, like _D only, or _DEBT, etc\n",
    "# mask_not_derived = \n",
    "\n",
    "\n",
    "## ? not null rules .... \n",
    "\n",
    "mdr_df.loc[mask_derived, 'derived'] = 'yes'\n",
    "\n",
    "# to take a look at if anything else look like the derived in names\n",
    "mdr_df[mdr_df['derived'] == 'yes'][['name','definition','derived']].to_excel('data/mdr_derived_variables_check.xlsx', index=False)"
   ]
  },
  {
   "cell_type": "code",
   "execution_count": 49,
   "id": "2d645ea8-ef9a-4229-bc88-ecbc9a0053c1",
   "metadata": {},
   "outputs": [],
   "source": [
    "# define derived\n",
    "mdr_df['derived'] = 'no'\n",
    "mask_derived = (mdr_df['definition'].str.lower().str.contains('derive')) | (mdr_df['name'].str.contains('_DVAL')) \\\n",
    "               | (mdr_df['name'].str.lower().str.contains('derive'))\n",
    "\n",
    "## ? not null rules .... \n",
    "\n",
    "mdr_df.loc[mask_derived, 'derived'] = 'yes'"
   ]
  },
  {
   "cell_type": "code",
   "execution_count": null,
   "id": "7d292359-b2ce-497c-bb82-97ef302003de",
   "metadata": {},
   "outputs": [],
   "source": []
  }
 ],
 "metadata": {
  "kernelspec": {
   "display_name": "Python mdr",
   "language": "python",
   "name": "mdr"
  },
  "language_info": {
   "codemirror_mode": {
    "name": "ipython",
    "version": 3
   },
   "file_extension": ".py",
   "mimetype": "text/x-python",
   "name": "python",
   "nbconvert_exporter": "python",
   "pygments_lexer": "ipython3",
   "version": "3.12.7"
  }
 },
 "nbformat": 4,
 "nbformat_minor": 5
}

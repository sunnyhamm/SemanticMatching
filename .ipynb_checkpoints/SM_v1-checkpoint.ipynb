{
 "cells": [
  {
   "cell_type": "markdown",
   "id": "8722d332-6374-4cb8-bb28-60e8dfed8281",
   "metadata": {},
   "source": [
    "### use the modules/functions from semanticMatching.py to run models with different data sets"
   ]
  },
  {
   "cell_type": "code",
   "execution_count": 2,
   "id": "4418fea9-9fcb-4bc5-9c0d-2f32a2985a85",
   "metadata": {},
   "outputs": [],
   "source": [
    "import pandas as pd\n",
    "import numpy as np\n",
    "from scipy.sparse import csr_matrix\n",
    "import gensim.downloader as api\n",
    "from sentence_transformers import SentenceTransformer, util\n",
    "from sklearn.feature_extraction.text import CountVectorizer\n",
    "from gensim.utils import simple_preprocess\n",
    "from concurrent.futures import ThreadPoolExecutor\n",
    "import torch\n",
    "device = torch.device(\"cuda\" if torch.cuda.is_available() else \"cpu\")"
   ]
  },
  {
   "cell_type": "code",
   "execution_count": 3,
   "id": "0692d388-a75d-44ba-88dd-0154cece616c",
   "metadata": {},
   "outputs": [],
   "source": [
    "# import functions from semanticMatching.py, make this semanticMatching.py is located in the same directory where this script is run\n",
    "from semanticMatching import *\n",
    "matcher = MatchingFunction()"
   ]
  },
  {
   "cell_type": "code",
   "execution_count": null,
   "id": "cfda76ec-f858-43fa-9331-98bd539893bd",
   "metadata": {},
   "outputs": [],
   "source": [
    "results = matcher.cosineSimilarity(\n",
    "    datasetB=\"data/raw/ABS-MOPS Variables - December 11 2024.xlsm\",\n",
    "    datasetA=\"data/raw/MDR View 02-27-2025.xlsx\",\n",
    "    descriptionB='Provide a brief description of the variable, this will alert staff entering content of its intended purpose\\n\\nNOTE: Maximum number of characters should be 500',\n",
    "    descriptionA=\"description\",\n",
    "    rowsToPrintB=['Unique Name for Variable \\nOn upload, will verify with those already in database to ensure unique and alert to those that are not\\n\\nNOTE: \\n1) Variable Names should be all caps with no spaces\\n2) Variables can not end with _# or _## as those are reserved for handling of repeating persons.'],\n",
    "    variableNameA=[\"variable_name\"],\n",
    "    variableNameB=[\"Legacy Variable\"],\n",
    "    sheetNameB='Data Sheet',\n",
    "    headerB=13,\n",
    "    filteredRowsA={\"frame\": [\"Business Frame\"]}\n",
    ")\n",
    "results.to_csv('result/test/ABS-MOPScosineSimilarity.csv')"
   ]
  },
  {
   "cell_type": "code",
   "execution_count": null,
   "id": "7d5be395-03a4-41b9-bbf8-b660a475bf15",
   "metadata": {},
   "outputs": [],
   "source": [
    "results = matcher.cosineSimilarityMultiple(\n",
    "    datasetB=\"data/raw/ABS-MOPS Variables - December 11 2024.xlsm\",\n",
    "    datasetA=\"data/raw/MDR View 02-27-2025.xlsx\",\n",
    "    descriptionsListB=['Provide a brief description of the variable, this will alert staff entering content of its intended purpose\\n\\nNOTE: Maximum number of characters should be 500'],\n",
    "    descriptionsListA=[\"description\"],\n",
    "    rowsToPrintB=['Unique Name for Variable \\nOn upload, will verify with those already in database to ensure unique and alert to those that are not\\n\\nNOTE: \\n1) Variable Names should be all caps with no spaces\\n2) Variables can not end with _# or _## as those are reserved for handling of repeating persons.'],\n",
    "    variableNameA=[\"variable_name\"],\n",
    "    variableNameB=[\"Legacy Variable\"],\n",
    "    sheetNameB='Data Sheet',\n",
    "    headerB=13,\n",
    "    filteredRowsA={\"frame\": [\"Business Frame\"]}\n",
    ")\n",
    "results.to_csv('result/test/ABS-MOPScosineSimilarityMultiple.csv')"
   ]
  },
  {
   "cell_type": "code",
   "execution_count": 6,
   "id": "976d736a-cd0e-4b7f-9525-16bd8ace7352",
   "metadata": {},
   "outputs": [
    {
     "name": "stdout",
     "output_type": "stream",
     "text": [
      "Loading the data\n"
     ]
    },
    {
     "name": "stderr",
     "output_type": "stream",
     "text": [
      "C:\\Users\\cyy12\\mdr\\Lib\\site-packages\\openpyxl\\worksheet\\_reader.py:329: UserWarning: Data Validation extension is not supported and will be removed\n",
      "  warn(msg)\n"
     ]
    },
    {
     "name": "stdout",
     "output_type": "stream",
     "text": [
      "Filtering the rows\n",
      "Shape of dfA after filtering: (11742, 3)\n",
      "Shape of dfB after filtering: (394, 3)\n",
      "Shape of dfA after dropna: (11198, 3)\n",
      "Shape of dfB after dropna: (394, 3)\n",
      "Model learning ...\n",
      "Expected columns count: 8\n",
      "Actual row length: 8\n",
      "['ABSORBED', 'TCPEX', 'Calculate if all units have been absorbed', 'Total capital expenditures', 23.28, 27.39, 0.0, 'CAPEX_TOT_VAL']\n",
      "Processing completed.\n"
     ]
    }
   ],
   "source": [
    "results = matcher.cosineJaccardSimilarity(\n",
    "    datasetB=\"data/raw/ABS-MOPS Variables - December 11 2024.xlsm\",\n",
    "    datasetA=\"data/raw/MDR View 02-27-2025.xlsx\",\n",
    "    descriptionB='Provide a brief description of the variable, this will alert staff entering content of its intended purpose\\n\\nNOTE: Maximum number of characters should be 500',\n",
    "    descriptionA=\"description\",\n",
    "    rowsToPrintB=['Unique Name for Variable \\nOn upload, will verify with those already in database to ensure unique and alert to those that are not\\n\\nNOTE: \\n1) Variable Names should be all caps with no spaces\\n2) Variables can not end with _# or _## as those are reserved for handling of repeating persons.'],\n",
    "    variableNameA=[\"variable_name\"],\n",
    "    variableNameB=[\"Legacy Variable\"],\n",
    "    sheetNameB='Data Sheet',\n",
    "    headerB=13,\n",
    "    filteredRowsA={\"frame\": [\"Business Frame\"]}\n",
    ")\n",
    "\n",
    "results.to_csv('result/test/ABS-MOPScosineJaccardSimilarity.csv')"
   ]
  },
  {
   "cell_type": "code",
   "execution_count": 8,
   "id": "180bc3bf-48f4-407b-ae08-9f8aae5991c3",
   "metadata": {},
   "outputs": [
    {
     "name": "stdout",
     "output_type": "stream",
     "text": [
      "Loading the data\n",
      "Filtering the rows\n",
      "Shape of dfA after filtering: (11742, 3)\n",
      "Shape of dfB after filtering: (149, 2)\n",
      "Shape of dfA after dropna: (11198, 3)\n",
      "Shape of dfB after dropna: (98, 2)\n",
      "Model learning ...\n",
      "Expected columns count: 7\n",
      "Actual row length: 7\n",
      "['ABSORBED', '00223', 'Calculate if all units have been absorbed', 'Total Assets', 26.72, 31.43, 0.0]\n",
      "Processing completed.\n"
     ]
    }
   ],
   "source": [
    "results = matcher.cosineJaccardSimilarity(\n",
    "    datasetB=\"data/raw/QFR_DataSet for Matching to MDR.xlsx\",\n",
    "    datasetA=\"data/raw/MDR View 02-27-2025.xlsx\",\n",
    "    descriptionB = 'DESCRP1',\n",
    "    descriptionA=\"description\",\n",
    "    variableNameA=[\"variable_name\"],\n",
    "    variableNameB=[\"Legacy Variable Name\"],\n",
    "    filteredRowsA={\"frame\": [\"Business Frame\"]}\n",
    ")\n",
    "results.to_csv('result/test/QFRcosineJaccardSimilarity.csv')"
   ]
  },
  {
   "cell_type": "code",
   "execution_count": null,
   "id": "2308e289-bb59-44ed-b44e-71879168d1d4",
   "metadata": {},
   "outputs": [],
   "source": []
  }
 ],
 "metadata": {
  "kernelspec": {
   "display_name": "Python mdr",
   "language": "python",
   "name": "mdr"
  },
  "language_info": {
   "codemirror_mode": {
    "name": "ipython",
    "version": 3
   },
   "file_extension": ".py",
   "mimetype": "text/x-python",
   "name": "python",
   "nbconvert_exporter": "python",
   "pygments_lexer": "ipython3",
   "version": "3.12.7"
  }
 },
 "nbformat": 4,
 "nbformat_minor": 5
}

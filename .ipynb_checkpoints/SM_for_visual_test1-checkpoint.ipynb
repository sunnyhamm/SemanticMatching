{
 "cells": [
  {
   "cell_type": "code",
   "execution_count": 2,
   "id": "4418fea9-9fcb-4bc5-9c0d-2f32a2985a85",
   "metadata": {},
   "outputs": [],
   "source": [
    "import pandas as pd\n",
    "import numpy as np\n",
    "from scipy.sparse import csr_matrix\n",
    "import gensim.downloader as api\n",
    "from sentence_transformers import SentenceTransformer, util\n",
    "from sklearn.feature_extraction.text import CountVectorizer\n",
    "from gensim.utils import simple_preprocess\n",
    "from concurrent.futures import ThreadPoolExecutor\n",
    "import torch\n",
    "device = torch.device(\"cuda\" if torch.cuda.is_available() else \"cpu\")\n",
    "import chardet\n",
    "\n",
    "# \n",
    "from UI_semanticMatching import *\n",
    "matcher = MatchingFunction()\n",
    "from UI_input_output import read_clean_model\n",
    "\n",
    "pd.set_option('display.max_columns', None)\n",
    "pd.set_option('display.max_colwidth',500)  "
   ]
  },
  {
   "cell_type": "markdown",
   "id": "66065601-9e97-4035-91cd-a0bdddafb05a",
   "metadata": {},
   "source": [
    "### read input and mdr data"
   ]
  },
  {
   "cell_type": "code",
   "execution_count": 4,
   "id": "adb52dc1-3a9c-4bac-b0bc-8107ae9375b8",
   "metadata": {},
   "outputs": [],
   "source": [
    "# # Load datasets \n",
    "# file_path_input = \"data/raw/ABS-MOPS Variables - December 11 2024.xlsm\"\n",
    "# file_path_mdr = \"data/raw/mdr Variables 1.xlsx\"\n",
    "\n",
    "# input_df = pd.read_excel(file_path_input, sheet_name=\"Data Sheet\", header=12).rename(columns={'Unnamed: 3':'Legacy Variable'})\n",
    "# mdr_df = pd.read_excel(file_path_mdr)"
   ]
  },
  {
   "cell_type": "code",
   "execution_count": 5,
   "id": "08424c4b-a347-4f18-9f44-05bac14efa74",
   "metadata": {},
   "outputs": [],
   "source": [
    "file_path_input = \"data/raw/ABS-MOPS_variables.csv\"\n",
    "file_path_mdr = \"data/raw/mdr Variables 1.csv\"\n",
    "\n",
    "with open(file_path_input, 'rb') as f:\n",
    "    result = chardet.detect(f.read())\n",
    "encoding_input = result['encoding']\n",
    "\n",
    "with open(file_path_mdr, 'rb') as f:\n",
    "    result = chardet.detect(f.read())\n",
    "encoding_mdr = result['encoding']\n",
    "\n",
    "input_df = pd.read_csv(file_path_input, encoding=encoding_input)\n",
    "mdr_df = pd.read_csv(file_path_mdr, encoding=encoding_mdr)"
   ]
  },
  {
   "cell_type": "code",
   "execution_count": 6,
   "id": "8985f422-29a5-4d12-8274-f3686c9081ae",
   "metadata": {},
   "outputs": [],
   "source": [
    "# input_df\n",
    "# mdr_df"
   ]
  },
  {
   "cell_type": "code",
   "execution_count": 7,
   "id": "b1993f59-d03f-48b0-b693-cf4947f04d17",
   "metadata": {},
   "outputs": [
    {
     "name": "stdout",
     "output_type": "stream",
     "text": [
      "(394, 2)\n",
      "(41626, 2)\n"
     ]
    }
   ],
   "source": [
    "print(input_df.shape)\n",
    "print(mdr_df.shape)"
   ]
  },
  {
   "cell_type": "code",
   "execution_count": 13,
   "id": "9489eec0-0ce1-4a67-adc4-1d86385b3ec3",
   "metadata": {},
   "outputs": [
    {
     "name": "stdout",
     "output_type": "stream",
     "text": [
      "(374, 3)\n",
      "(36524, 3)\n"
     ]
    }
   ],
   "source": [
    "output_df = read_clean_model(input_df, mdr_df)"
   ]
  },
  {
   "cell_type": "code",
   "execution_count": 14,
   "id": "aa46e6cc-5db5-4b67-be95-1234b2853ddb",
   "metadata": {},
   "outputs": [
    {
     "data": {
      "text/html": [
       "<div>\n",
       "<style scoped>\n",
       "    .dataframe tbody tr th:only-of-type {\n",
       "        vertical-align: middle;\n",
       "    }\n",
       "\n",
       "    .dataframe tbody tr th {\n",
       "        vertical-align: top;\n",
       "    }\n",
       "\n",
       "    .dataframe thead th {\n",
       "        text-align: right;\n",
       "    }\n",
       "</style>\n",
       "<table border=\"1\" class=\"dataframe\">\n",
       "  <thead>\n",
       "    <tr style=\"text-align: right;\">\n",
       "      <th></th>\n",
       "      <th>input_name</th>\n",
       "      <th>input_descr</th>\n",
       "      <th>mdr_name</th>\n",
       "      <th>mdr_descr</th>\n",
       "      <th>similarity_score</th>\n",
       "    </tr>\n",
       "  </thead>\n",
       "  <tbody>\n",
       "    <tr>\n",
       "      <th>0</th>\n",
       "      <td>RESP_PHONE_AREA_CODE\\nRESP_PHONE_PREFIX, RESP_PHONE_SUFFIX,</td>\n",
       "      <td>Contact Information: Phone</td>\n",
       "      <td>CERT_PHONE_NUM</td>\n",
       "      <td>Contact Information: Phone</td>\n",
       "      <td>100.0%</td>\n",
       "    </tr>\n",
       "    <tr>\n",
       "      <th>1</th>\n",
       "      <td>RESP_PHONE_EXT</td>\n",
       "      <td>Contact Information: Extension</td>\n",
       "      <td>CERT_EXTENSION_NUM</td>\n",
       "      <td>Contact Information: Extension</td>\n",
       "      <td>100.0%</td>\n",
       "    </tr>\n",
       "    <tr>\n",
       "      <th>2</th>\n",
       "      <td>RESP_CONTACT_NAME</td>\n",
       "      <td>Contact Information: Name</td>\n",
       "      <td>CERT_NAME_TXT</td>\n",
       "      <td>Contact Information: Name</td>\n",
       "      <td>100.0%</td>\n",
       "    </tr>\n",
       "    <tr>\n",
       "      <th>3</th>\n",
       "      <td>\\nRESP_TITLE</td>\n",
       "      <td>Contact Information: Title</td>\n",
       "      <td>CERT_TITLE_TXT</td>\n",
       "      <td>Contact Information: Title</td>\n",
       "      <td>100.0%</td>\n",
       "    </tr>\n",
       "    <tr>\n",
       "      <th>4</th>\n",
       "      <td>RESP_EMAIL</td>\n",
       "      <td>Contact Information: Email</td>\n",
       "      <td>CERT_EMAIL_TXT</td>\n",
       "      <td>Contact Information: E-mail</td>\n",
       "      <td>93.7%</td>\n",
       "    </tr>\n",
       "    <tr>\n",
       "      <th>...</th>\n",
       "      <td>...</td>\n",
       "      <td>...</td>\n",
       "      <td>...</td>\n",
       "      <td>...</td>\n",
       "      <td>...</td>\n",
       "    </tr>\n",
       "    <tr>\n",
       "      <th>21973</th>\n",
       "      <td>NPRDFIELDWI</td>\n",
       "      <td>Additional detail or clarification for question response</td>\n",
       "      <td>MGOT_PYX</td>\n",
       "      <td>Range edit flag for MGOTHPYX</td>\n",
       "      <td>8.4%</td>\n",
       "    </tr>\n",
       "    <tr>\n",
       "      <th>21974</th>\n",
       "      <td>RESP_PHONE_EXT</td>\n",
       "      <td>Contact Information: Extension</td>\n",
       "      <td>PES_WAVE</td>\n",
       "      <td>PI wave</td>\n",
       "      <td>8.3%</td>\n",
       "    </tr>\n",
       "    <tr>\n",
       "      <th>21975</th>\n",
       "      <td>B_WORKHOME_FCT</td>\n",
       "      <td>List of factors that limit the ability of the mployees to work from home</td>\n",
       "      <td>ANXMED_A</td>\n",
       "      <td>Take medication for worry</td>\n",
       "      <td>8.1%</td>\n",
       "    </tr>\n",
       "    <tr>\n",
       "      <th>21976</th>\n",
       "      <td>O1_AGE</td>\n",
       "      <td>Age of first owner</td>\n",
       "      <td>SUPT_OLX</td>\n",
       "      <td>Range edit flag for SUPTOOLX</td>\n",
       "      <td>8.1%</td>\n",
       "    </tr>\n",
       "    <tr>\n",
       "      <th>21977</th>\n",
       "      <td>O1_GENDER_WIN</td>\n",
       "      <td>Different gender term</td>\n",
       "      <td>NHIS_SBURNALC_A</td>\n",
       "      <td>Drinking alcohol when sunburned</td>\n",
       "      <td>5.8%</td>\n",
       "    </tr>\n",
       "  </tbody>\n",
       "</table>\n",
       "<p>21978 rows × 5 columns</p>\n",
       "</div>"
      ],
      "text/plain": [
       "                                                         input_name  \\\n",
       "0      RESP_PHONE_AREA_CODE\\nRESP_PHONE_PREFIX, RESP_PHONE_SUFFIX,    \n",
       "1                                                   RESP_PHONE_EXT    \n",
       "2                                                RESP_CONTACT_NAME    \n",
       "3                                                   \\nRESP_TITLE      \n",
       "4                                                      RESP_EMAIL     \n",
       "...                                                             ...   \n",
       "21973                                                   NPRDFIELDWI   \n",
       "21974                                               RESP_PHONE_EXT    \n",
       "21975                                                B_WORKHOME_FCT   \n",
       "21976                                                       O1_AGE    \n",
       "21977                                                 O1_GENDER_WIN   \n",
       "\n",
       "                                                                    input_descr  \\\n",
       "0                                                    Contact Information: Phone   \n",
       "1                                                Contact Information: Extension   \n",
       "2                                                     Contact Information: Name   \n",
       "3                                                    Contact Information: Title   \n",
       "4                                                    Contact Information: Email   \n",
       "...                                                                         ...   \n",
       "21973                  Additional detail or clarification for question response   \n",
       "21974                                            Contact Information: Extension   \n",
       "21975  List of factors that limit the ability of the mployees to work from home   \n",
       "21976                                                        Age of first owner   \n",
       "21977                                                     Different gender term   \n",
       "\n",
       "                 mdr_name                        mdr_descr similarity_score  \n",
       "0          CERT_PHONE_NUM       Contact Information: Phone           100.0%  \n",
       "1      CERT_EXTENSION_NUM   Contact Information: Extension           100.0%  \n",
       "2           CERT_NAME_TXT        Contact Information: Name           100.0%  \n",
       "3          CERT_TITLE_TXT       Contact Information: Title           100.0%  \n",
       "4          CERT_EMAIL_TXT      Contact Information: E-mail            93.7%  \n",
       "...                   ...                              ...              ...  \n",
       "21973            MGOT_PYX     Range edit flag for MGOTHPYX             8.4%  \n",
       "21974            PES_WAVE                          PI wave             8.3%  \n",
       "21975            ANXMED_A        Take medication for worry             8.1%  \n",
       "21976            SUPT_OLX     Range edit flag for SUPTOOLX             8.1%  \n",
       "21977     NHIS_SBURNALC_A  Drinking alcohol when sunburned             5.8%  \n",
       "\n",
       "[21978 rows x 5 columns]"
      ]
     },
     "execution_count": 14,
     "metadata": {},
     "output_type": "execute_result"
    }
   ],
   "source": [
    "output_df"
   ]
  },
  {
   "cell_type": "code",
   "execution_count": null,
   "id": "64117601-8e1e-4fd8-a0d1-c2c3539a9722",
   "metadata": {},
   "outputs": [],
   "source": []
  }
 ],
 "metadata": {
  "kernelspec": {
   "display_name": "Python mdr",
   "language": "python",
   "name": "mdr"
  },
  "language_info": {
   "codemirror_mode": {
    "name": "ipython",
    "version": 3
   },
   "file_extension": ".py",
   "mimetype": "text/x-python",
   "name": "python",
   "nbconvert_exporter": "python",
   "pygments_lexer": "ipython3",
   "version": "3.12.7"
  }
 },
 "nbformat": 4,
 "nbformat_minor": 5
}

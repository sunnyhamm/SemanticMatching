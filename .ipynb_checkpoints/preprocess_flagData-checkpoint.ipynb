{
 "cells": [
  {
   "cell_type": "markdown",
   "id": "6c5af448-9057-4a7c-8d7a-8305fa3cc4c9",
   "metadata": {},
   "source": [
    "### This notebook is to\n",
    "1. identify the variables that are derived\n",
    "\n"
   ]
  },
  {
   "cell_type": "code",
   "execution_count": 48,
   "id": "b4c9a47a-f808-47e4-85d4-78617c5e3303",
   "metadata": {},
   "outputs": [],
   "source": [
    "import pandas as pd\n",
    "\n",
    "pd.set_option('display.max_columns', None)\n",
    "pd.set_option('display.max_colwidth',500)  "
   ]
  },
  {
   "cell_type": "code",
   "execution_count": 49,
   "id": "a82f0890-43b9-4608-92d3-69ff9ed15844",
   "metadata": {},
   "outputs": [],
   "source": [
    "# Load datasets --- cleaned datasets are produced from the cleaningData.jpynb\n",
    "file_path_input = \"data/cleanABS.xlsx\"\n",
    "file_path_mdr = \"data/cleanMDR.xlsx\"\n",
    "\n",
    "input_df = pd.read_excel(file_path_input)\n",
    "mdr_df = pd.read_excel(file_path_mdr)\n",
    "\n",
    "input_columns_to_check = [\"Legacy Variable\", \"Variable Name *\", \"Description *\"]\n",
    "mdr_columns_to_check = [\"name\", \"definition\"]"
   ]
  },
  {
   "cell_type": "code",
   "execution_count": 50,
   "id": "306c490c-79c0-4efc-bf53-64743c93140c",
   "metadata": {},
   "outputs": [],
   "source": [
    "# input_df[input_columns_to_check].head()"
   ]
  },
  {
   "cell_type": "code",
   "execution_count": 51,
   "id": "3d95d17a-7034-4b0c-8cc7-2c400daa94ad",
   "metadata": {},
   "outputs": [],
   "source": [
    "# mdr_df[mdr_columns_to_check].head()"
   ]
  },
  {
   "cell_type": "markdown",
   "id": "462de1c3-4903-44dc-8fc7-34746fa4641c",
   "metadata": {},
   "source": [
    "### find the variables that are derived. --- per client instructions:\n",
    "* For the MDR names, there is a 'D' in front of the data type abbreviation. For instance, VALUE_ADDED_DVAL is the derived dollar value of the 'value added' variable concept. If this variable were not derived it would be named VALUE_ADDED_VAL\n",
    "* does the description/definition of the variable include the word \"derived\"? \n",
    "* is there a non-null rules formula value for the variable. If so, this variable is derived. The rules formula column exists for all AIES variables but may not exist for the other variables. You would have to pull it from the aies_variable_view in mdr prod. \n",
    "\n",
    "*If you find that it is impossible to identify the derived variables in the legacy variable files, I would EXCLUDE the derived variables in the MDR file before attempting to run the model and make matches. "
   ]
  },
  {
   "cell_type": "code",
   "execution_count": 53,
   "id": "8f2eafea-bf4c-48a5-b0ab-45e15ede013c",
   "metadata": {},
   "outputs": [],
   "source": [
    "# #  manually check if variables are derived\n",
    "# mdr_df['derived'] = 'no'\n",
    "# mask_derived = (mdr_df['definition'].str.lower().str.contains('derive')) | (mdr_df['name'].str.contains('_D')) \\\n",
    "#                | (mdr_df['name'].str.lower().str.contains('derive'))\n",
    "\n",
    "# ## ? not null rules .... \n",
    "\n",
    "# mdr_df.loc[mask_derived, 'derived'] = 'yes'\n",
    "\n",
    "# # to take a look at if anything else look like the derived in names\n",
    "# mdr_df[mdr_df['derived'] == 'yes'][['name','definition','derived']].to_excel('data/dbl_chk/mdr_derived_variables_check.xlsx', index=False)"
   ]
  },
  {
   "cell_type": "code",
   "execution_count": 54,
   "id": "2d645ea8-ef9a-4229-bc88-ecbc9a0053c1",
   "metadata": {},
   "outputs": [],
   "source": [
    "# define derived\n",
    "derived_data_type_list = ['_DVAL', '_DSUM']\n",
    "\n",
    "mdr_df['derived'] = 'no'\n",
    "mask_derived = (mdr_df['name'].str.contains('|'.join(derived_data_type_list), case=False, na=False))\n",
    "mdr_df.loc[mask_derived, 'derived'] = 'yes'\n",
    "\n",
    "input_df['derived'] = 'no'\n",
    "mask_derived = (input_df['Legacy Variable'].str.contains('|'.join(derived_data_type_list), case=False, na=False)) | (input_df['Variable Name *'].str.contains('|'.join(derived_data_type_list), case=False, na=False))\n",
    "input_df.loc[mask_derived, 'derived'] = 'yes'"
   ]
  },
  {
   "cell_type": "code",
   "execution_count": 55,
   "id": "7d292359-b2ce-497c-bb82-97ef302003de",
   "metadata": {},
   "outputs": [],
   "source": [
    "mdr_df.to_excel('data/cleanMDR_w_flag.xlsx', index=False)\n",
    "input_df.to_excel('data/cleanABS_w_flag.xlsx', index=False)"
   ]
  },
  {
   "cell_type": "code",
   "execution_count": 56,
   "id": "d9d9d0ee-9e7c-4f03-88a5-0d58dbbe382b",
   "metadata": {},
   "outputs": [],
   "source": [
    "# mdr_df[mdr_df['derived'] == 'yes'][['name','definition']]"
   ]
  }
 ],
 "metadata": {
  "kernelspec": {
   "display_name": "Python mdr",
   "language": "python",
   "name": "mdr"
  },
  "language_info": {
   "codemirror_mode": {
    "name": "ipython",
    "version": 3
   },
   "file_extension": ".py",
   "mimetype": "text/x-python",
   "name": "python",
   "nbconvert_exporter": "python",
   "pygments_lexer": "ipython3",
   "version": "3.12.7"
  }
 },
 "nbformat": 4,
 "nbformat_minor": 5
}
